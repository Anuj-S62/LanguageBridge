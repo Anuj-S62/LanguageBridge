{
 "cells": [
  {
   "cell_type": "code",
   "execution_count": 1,
   "metadata": {},
   "outputs": [
    {
     "name": "stderr",
     "output_type": "stream",
     "text": [
      "/opt/homebrew/lib/python3.11/site-packages/tqdm/auto.py:21: TqdmWarning: IProgress not found. Please update jupyter and ipywidgets. See https://ipywidgets.readthedocs.io/en/stable/user_install.html\n",
      "  from .autonotebook import tqdm as notebook_tqdm\n"
     ]
    }
   ],
   "source": [
    "# IMPORTS\n",
    "import tensorflow as tf\n",
    "import pandas as pd\n",
    "import numpy as np\n",
    "import matplotlib.pyplot as plt\n",
    "import re\n",
    "import string\n",
    "import random\n",
    "import os\n",
    "\n",
    "from sklearn.model_selection import train_test_split\n",
    "from tqdm.auto import tqdm\n",
    "tqdm.pandas()"
   ]
  },
  {
   "cell_type": "code",
   "execution_count": 2,
   "metadata": {},
   "outputs": [],
   "source": [
    "BATCH_SIZE = 64\n",
    "EMBEDDING_DIM = 50\n",
    "UNITS = 50\n",
    "NUM_EPOCHS = 20\n",
    "max_lines = 180000"
   ]
  },
  {
   "cell_type": "code",
   "execution_count": 3,
   "metadata": {},
   "outputs": [],
   "source": [
    "def preprocess(sent, exclude, sp_tokens=False):\n",
    "    sent = sent.lower()\n",
    "    sent = re.sub(\"'\", '', sent)\n",
    "    sent = ''.join(ch for ch in sent if ch not in exclude)\n",
    "    sent = sent.strip()\n",
    "    sent = re.sub(\" +\", \" \", sent)\n",
    "    if sp_tokens:\n",
    "        sent = '<start> ' + sent + ' <end>'\n",
    "    \n",
    "    return sent\n"
   ]
  },
  {
   "cell_type": "code",
   "execution_count": 4,
   "metadata": {},
   "outputs": [],
   "source": [
    "from keras.preprocessing.text import Tokenizer\n",
    "\n",
    "def Tokenize(text):\n",
    "    tokenizer = Tokenizer(oov_token=\"<unk>\",filters='!\"#$%&()*+,-/:;=@[\\\\]^_`{|}~\\t\\n')\n",
    "    tokenizer.fit_on_texts(text)\n",
    "    return tokenizer"
   ]
  },
  {
   "cell_type": "code",
   "execution_count": 5,
   "metadata": {},
   "outputs": [],
   "source": [
    "# padding\n",
    "def pad_sequences(x, max_len):\n",
    "    padded = tf.keras.preprocessing.sequence.pad_sequences(x, maxlen=max_len, padding='post', truncating='post')\n",
    "    return padded"
   ]
  },
  {
   "cell_type": "code",
   "execution_count": 6,
   "metadata": {},
   "outputs": [],
   "source": [
    "def load_data(path):\n",
    "    with open(path, \"r\", encoding=\"utf-8\") as f:\n",
    "        lines = f.read().split(\"\\n\")\n",
    "    return lines"
   ]
  },
  {
   "cell_type": "code",
   "execution_count": 7,
   "metadata": {},
   "outputs": [
    {
     "name": "stdout",
     "output_type": "stream",
     "text": [
      "['Hi.\\tHallo!', 'Hi.\\tGrüß Gott!', 'Run!\\tLauf!', 'Wow!\\tPotzdonner!', 'Wow!\\tDonnerwetter!']\n"
     ]
    }
   ],
   "source": [
    "lines = load_data(\"eng_ger.txt\")\n",
    "lines = lines[:max_lines]\n",
    "\n",
    "print(lines[:5])"
   ]
  },
  {
   "cell_type": "code",
   "execution_count": 8,
   "metadata": {},
   "outputs": [
    {
     "name": "stdout",
     "output_type": "stream",
     "text": [
      "['Hi.\\tHallo!', 'Hi.\\tGrüß Gott!', 'Run!\\tLauf!', 'Wow!\\tPotzdonner!', 'Wow!\\tDonnerwetter!']\n",
      "['Hallo!\\tHi.', 'Grüß Gott!\\tHi.', 'Lauf!\\tRun!', 'Potzdonner!\\tWow!', 'Donnerwetter!\\tWow!']\n"
     ]
    }
   ],
   "source": [
    "def swap_lines(lines):\n",
    "    print(lines[:5])\n",
    "    data = []\n",
    "    for line in lines:\n",
    "        text = line.split(\"\\t\")\n",
    "        str = text[1] + \"\\t\" + text[0]\n",
    "        data.append(str)\n",
    "    return data\n",
    "\n",
    "lines = swap_lines(lines)\n",
    "print(lines[:5])"
   ]
  },
  {
   "cell_type": "code",
   "execution_count": 9,
   "metadata": {},
   "outputs": [],
   "source": [
    "def combine(lines):\n",
    "    data = []\n",
    "    exclude = string.punctuation\n",
    "    for line in lines:\n",
    "        text = line.split(\"\\t\")\n",
    "        prep_inp = preprocess(text[0], exclude=exclude, sp_tokens=False)\n",
    "        prep_tar = preprocess(text[1], exclude=exclude, sp_tokens=True)\n",
    "        data.append([prep_inp, prep_tar])\n",
    "    \n",
    "    print(data[:5])\n",
    "    \n",
    "    # tokenize\n",
    "    inp_tokenizer = Tokenize([i[0] for i in data])\n",
    "    tar_tokenizer = Tokenize([i[1] for i in data])\n",
    "\n",
    "    # convert text to sequences\n",
    "    inp_seq = inp_tokenizer.texts_to_sequences([i[0] for i in data])\n",
    "    tar_seq = tar_tokenizer.texts_to_sequences([i[1] for i in data])\n",
    "\n",
    "    print(inp_seq[:5])\n",
    "    print(tar_seq[:5])\n",
    "\n",
    "    # padding\n",
    "    inp_seq = pad_sequences(inp_seq, max_len=10)\n",
    "    tar_seq = pad_sequences(tar_seq, max_len=10)\n",
    "\n",
    "    print(inp_seq[:5])\n",
    "    print(tar_seq[:5])\n",
    "\n",
    "    input_tensor_train, input_tensor_val, target_tensor_train, target_tensor_val = train_test_split(inp_seq, tar_seq, test_size=0.2)\n",
    "\n",
    "    train_dataset = tf.data.Dataset.from_tensor_slices((input_tensor_train, target_tensor_train)).shuffle(len(input_tensor_train))\n",
    "    train_dataset = train_dataset.batch(BATCH_SIZE, drop_remainder=True)\n",
    "\n",
    "    test_dataset = tf.data.Dataset.from_tensor_slices((input_tensor_val, target_tensor_val)).shuffle(len(input_tensor_val))\n",
    "    test_dataset = test_dataset.batch(BATCH_SIZE, drop_remainder=True)\n",
    "\n",
    "    return train_dataset, test_dataset, inp_tokenizer, tar_tokenizer\n",
    "    \n",
    "    \n"
   ]
  },
  {
   "cell_type": "code",
   "execution_count": 10,
   "metadata": {},
   "outputs": [
    {
     "name": "stdout",
     "output_type": "stream",
     "text": [
      "[['hallo', '<start> hi <end>'], ['grüß gott', '<start> hi <end>'], ['lauf', '<start> run <end>'], ['potzdonner', '<start> wow <end>'], ['donnerwetter', '<start> wow <end>']]\n",
      "[[1596], [4077, 1513], [4508], [10094], [12452]]\n",
      "[[2, 2059, 3], [2, 2059, 3], [2, 461, 3], [2, 3726, 3], [2, 3726, 3]]\n",
      "[[ 1596     0     0     0     0     0     0     0     0     0]\n",
      " [ 4077  1513     0     0     0     0     0     0     0     0]\n",
      " [ 4508     0     0     0     0     0     0     0     0     0]\n",
      " [10094     0     0     0     0     0     0     0     0     0]\n",
      " [12452     0     0     0     0     0     0     0     0     0]]\n",
      "[[   2 2059    3    0    0    0    0    0    0    0]\n",
      " [   2 2059    3    0    0    0    0    0    0    0]\n",
      " [   2  461    3    0    0    0    0    0    0    0]\n",
      " [   2 3726    3    0    0    0    0    0    0    0]\n",
      " [   2 3726    3    0    0    0    0    0    0    0]]\n"
     ]
    }
   ],
   "source": [
    "train_dataset, test_dataset, inp_tokenizer, tar_tokenizer = combine(lines)\n",
    "input_vocab_size = len(inp_tokenizer.word_index) + 1\n",
    "target_vocab_size = len(tar_tokenizer.word_index) + 1"
   ]
  },
  {
   "cell_type": "code",
   "execution_count": 11,
   "metadata": {},
   "outputs": [
    {
     "name": "stdout",
     "output_type": "stream",
     "text": [
      "<_BatchDataset element_spec=(TensorSpec(shape=(64, 10), dtype=tf.int32, name=None), TensorSpec(shape=(64, 10), dtype=tf.int32, name=None))>\n"
     ]
    }
   ],
   "source": [
    "print(train_dataset)"
   ]
  },
  {
   "cell_type": "code",
   "execution_count": 12,
   "metadata": {},
   "outputs": [],
   "source": [
    "def detokenize(token,tokenizer):\n",
    "    # token = token.numpy()\n",
    "    res = \"\"\n",
    "    for i in token:\n",
    "        if i!=0:\n",
    "            if(tokenizer.index_word[i]==\"<end>\"):\n",
    "                break\n",
    "            if(tokenizer.index_word[i]==\"<start>\"):\n",
    "                continue\n",
    "            res += tokenizer.index_word[i] + \" \"\n",
    "    return res\n",
    "\n"
   ]
  },
  {
   "cell_type": "code",
   "execution_count": 13,
   "metadata": {},
   "outputs": [],
   "source": [
    "# 2 layers => 1 embedding layer and 1 LSTM layer\n",
    "\n",
    "class Encoder(tf.keras.layers.Layer):\n",
    "    \n",
    "    def __init__(self, embed_dim, units, vocab_size):\n",
    "        super().__init__()\n",
    "        self.embedding = tf.keras.layers.Embedding(\n",
    "            vocab_size, embed_dim, mask_zero=True)\n",
    "        self.rnn = tf.keras.layers.LSTM(\n",
    "            units, return_sequences=True, return_state=True)\n",
    "    \n",
    "    def call(self, x):\n",
    "        # x => (batch_size, max_len)\n",
    "        x = self.embedding(x) # => (batch_size, s, embed_dim)\n",
    "        enc_outputs = self.rnn(x)\n",
    "        return enc_outputs[0], enc_outputs[1:]\n"
   ]
  },
  {
   "cell_type": "code",
   "execution_count": 14,
   "metadata": {},
   "outputs": [],
   "source": [
    "class AdditiveAttention(tf.keras.layers.Layer):\n",
    "\n",
    "    def __init__(self, units):\n",
    "        super().__init__()\n",
    "        self.W_q = tf.keras.layers.Dense(units, use_bias=False)\n",
    "        self.W_k = tf.keras.layers.Dense(units, use_bias=False)\n",
    "        self.W_v = tf.keras.layers.Dense(1, use_bias=False)\n",
    "    \n",
    "\n",
    "    def call(self, query, key, value, mask=None):\n",
    "        query, key = self.W_q(query), self.W_k(key)\n",
    "        # query => (batch_size, t, units)\n",
    "        # key => (batch_size, s, units)\n",
    "\n",
    "        score = self.W_v(\n",
    "            tf.math.tanh(\n",
    "                tf.expand_dims(query, 2) + tf.expand_dims(key, 1)\n",
    "            )\n",
    "        )\n",
    "        score = tf.squeeze(score, -1)\n",
    "        # score => (batch_size, t, s)\n",
    "        \n",
    "        if mask is not None:\n",
    "            score = tf.where(mask, score, -1e6)\n",
    "        \n",
    "        attention_weights = tf.nn.softmax(score, axis=-1)\n",
    "        # attention_weights => (batch_size, t, s)\n",
    "\n",
    "        context = tf.matmul(attention_weights, value)\n",
    "        # context => (batch_size, t, units)\n",
    "\n",
    "        return context, attention_weights\n"
   ]
  },
  {
   "cell_type": "code",
   "execution_count": 15,
   "metadata": {},
   "outputs": [],
   "source": [
    "class Decoder(tf.keras.layers.Layer):\n",
    "\n",
    "    def __init__(self, embed_dim, units, vocab_size):\n",
    "        super().__init__()\n",
    "\n",
    "        # Embedding layer to convert tokens to vectors\n",
    "        self.embedding = tf.keras.layers.Embedding(\n",
    "            vocab_size, embed_dim, mask_zero=True)\n",
    "        \n",
    "        # RNN layer\n",
    "        self.rnn = tf.keras.layers.LSTM(\n",
    "            units, return_sequences=True, return_state=True)\n",
    "        \n",
    "        # Attention layer\n",
    "        self.attention = AdditiveAttention(units)\n",
    "\n",
    "        # Final layer to output logits, we can use \n",
    "        # argmax to know which output token is predicted.\n",
    "        self.fc = tf.keras.layers.Dense(vocab_size)\n",
    "    \n",
    "\n",
    "    def call(self, x, enc_outputs, state, mask=None):\n",
    "        x = self.embedding(x)\n",
    "        # x => (batch_size, t, embed_dim)\n",
    "\n",
    "        dec_outputs = self.rnn(x, initial_state=state)\n",
    "        output = dec_outputs[0]\n",
    "        state = dec_outputs[1:]\n",
    "        # output   => (batch_size, t, units) \n",
    "        # state[i] => (batch_size, s, units)\n",
    "\n",
    "        context_vector, attention_weights = self.attention(\n",
    "            query=output,\n",
    "            key=enc_outputs,\n",
    "            value=enc_outputs,\n",
    "            mask=mask\n",
    "        )\n",
    "        # context_vector => (batch_size, t, units)\n",
    "        # attention_weights => (batch_size, t, s)\n",
    "\n",
    "        context_rnn_output = tf.concat(\n",
    "            [context_vector, output], axis=-1)\n",
    "        # context_rnn_output => (batch_size, t, 2*units)\n",
    "\n",
    "        pred = self.fc(context_rnn_output)\n",
    "        # pred => (batch_size, t, vocab_size)\n",
    "        \n",
    "        return pred, state, attention_weights\n"
   ]
  },
  {
   "cell_type": "code",
   "execution_count": 16,
   "metadata": {},
   "outputs": [],
   "source": [
    "# Creating instances of encoder and decoder\n",
    "encoder = Encoder(EMBEDDING_DIM, UNITS, input_vocab_size)\n",
    "decoder = Decoder(EMBEDDING_DIM, UNITS, target_vocab_size)\n"
   ]
  },
  {
   "cell_type": "code",
   "execution_count": 82,
   "metadata": {},
   "outputs": [],
   "source": [
    "def loss_fn(y_true, y_pred):\n",
    "    # y_true => (batch_size, max_len)\n",
    "    # y_pred => (batch_size, max_len, vocab_size)\n",
    "\n",
    "    mask = tf.cast(y_true != 0, tf.float32)\n",
    "\n",
    "    loss = tf.keras.losses.SparseCategoricalCrossentropy(\n",
    "        from_logits=True, reduction='none')(y_true, y_pred)\n",
    "\n",
    "    # masking the padding tokens\n",
    "    loss = tf.reduce_sum(loss * mask)\n",
    "    return loss"
   ]
  },
  {
   "cell_type": "code",
   "execution_count": 83,
   "metadata": {},
   "outputs": [
    {
     "name": "stderr",
     "output_type": "stream",
     "text": [
      "WARNING:absl:At this time, the v2.11+ optimizer `tf.keras.optimizers.Adam` runs slowly on M1/M2 Macs, please use the legacy Keras optimizer instead, located at `tf.keras.optimizers.legacy.Adam`.\n"
     ]
    }
   ],
   "source": [
    "trainer = tf.keras.optimizers.Adam(learning_rate=0.01)"
   ]
  },
  {
   "cell_type": "code",
   "execution_count": 84,
   "metadata": {},
   "outputs": [],
   "source": [
    "history = {\n",
    "    'loss': []\n",
    "}"
   ]
  },
  {
   "cell_type": "code",
   "execution_count": 85,
   "metadata": {},
   "outputs": [
    {
     "name": "stderr",
     "output_type": "stream",
     "text": [
      "100%|██████████| 2250/2250 [07:59<00:00,  4.69it/s]\n"
     ]
    },
    {
     "name": "stdout",
     "output_type": "stream",
     "text": [
      "Epoch: 0 | Loss: 2.583944691869948\n"
     ]
    },
    {
     "name": "stderr",
     "output_type": "stream",
     "text": [
      "100%|██████████| 2250/2250 [08:08<00:00,  4.60it/s]\n"
     ]
    },
    {
     "name": "stdout",
     "output_type": "stream",
     "text": [
      "Epoch: 1 | Loss: 1.465158718691932\n"
     ]
    },
    {
     "name": "stderr",
     "output_type": "stream",
     "text": [
      "100%|██████████| 2250/2250 [07:47<00:00,  4.81it/s]\n"
     ]
    },
    {
     "name": "stdout",
     "output_type": "stream",
     "text": [
      "Epoch: 2 | Loss: 1.1782671457131704\n"
     ]
    },
    {
     "name": "stderr",
     "output_type": "stream",
     "text": [
      "100%|██████████| 2250/2250 [07:44<00:00,  4.84it/s]\n"
     ]
    },
    {
     "name": "stdout",
     "output_type": "stream",
     "text": [
      "Epoch: 3 | Loss: 1.0367320578893027\n"
     ]
    },
    {
     "name": "stderr",
     "output_type": "stream",
     "text": [
      "100%|██████████| 2250/2250 [07:45<00:00,  4.83it/s]\n"
     ]
    },
    {
     "name": "stdout",
     "output_type": "stream",
     "text": [
      "Epoch: 4 | Loss: 0.9540529803435007\n"
     ]
    },
    {
     "name": "stderr",
     "output_type": "stream",
     "text": [
      "100%|██████████| 2250/2250 [07:49<00:00,  4.80it/s]\n"
     ]
    },
    {
     "name": "stdout",
     "output_type": "stream",
     "text": [
      "Epoch: 5 | Loss: 0.9036036790211995\n"
     ]
    },
    {
     "name": "stderr",
     "output_type": "stream",
     "text": [
      "100%|██████████| 2250/2250 [07:45<00:00,  4.83it/s]\n"
     ]
    },
    {
     "name": "stdout",
     "output_type": "stream",
     "text": [
      "Epoch: 6 | Loss: 0.8690587290128072\n"
     ]
    },
    {
     "name": "stderr",
     "output_type": "stream",
     "text": [
      "100%|██████████| 2250/2250 [07:49<00:00,  4.79it/s]\n"
     ]
    },
    {
     "name": "stdout",
     "output_type": "stream",
     "text": [
      "Epoch: 7 | Loss: 0.8433906269868215\n"
     ]
    },
    {
     "name": "stderr",
     "output_type": "stream",
     "text": [
      "100%|██████████| 2250/2250 [07:58<00:00,  4.71it/s]\n"
     ]
    },
    {
     "name": "stdout",
     "output_type": "stream",
     "text": [
      "Epoch: 8 | Loss: 0.8253486248387231\n"
     ]
    },
    {
     "name": "stderr",
     "output_type": "stream",
     "text": [
      "100%|██████████| 2250/2250 [07:57<00:00,  4.71it/s]\n"
     ]
    },
    {
     "name": "stdout",
     "output_type": "stream",
     "text": [
      "Epoch: 9 | Loss: 0.810462548467848\n"
     ]
    },
    {
     "name": "stderr",
     "output_type": "stream",
     "text": [
      "100%|██████████| 2250/2250 [07:57<00:00,  4.71it/s]\n"
     ]
    },
    {
     "name": "stdout",
     "output_type": "stream",
     "text": [
      "Epoch: 10 | Loss: 0.7992745428085327\n"
     ]
    },
    {
     "name": "stderr",
     "output_type": "stream",
     "text": [
      "100%|██████████| 2250/2250 [07:56<00:00,  4.72it/s]\n"
     ]
    },
    {
     "name": "stdout",
     "output_type": "stream",
     "text": [
      "Epoch: 11 | Loss: 0.7897324363655515\n"
     ]
    },
    {
     "name": "stderr",
     "output_type": "stream",
     "text": [
      "100%|██████████| 2250/2250 [07:57<00:00,  4.71it/s]\n"
     ]
    },
    {
     "name": "stdout",
     "output_type": "stream",
     "text": [
      "Epoch: 12 | Loss: 0.7821619648668501\n"
     ]
    },
    {
     "name": "stderr",
     "output_type": "stream",
     "text": [
      "100%|██████████| 2250/2250 [07:58<00:00,  4.70it/s]\n"
     ]
    },
    {
     "name": "stdout",
     "output_type": "stream",
     "text": [
      "Epoch: 13 | Loss: 0.7759963727659649\n"
     ]
    },
    {
     "name": "stderr",
     "output_type": "stream",
     "text": [
      "100%|██████████| 2250/2250 [07:57<00:00,  4.71it/s]\n"
     ]
    },
    {
     "name": "stdout",
     "output_type": "stream",
     "text": [
      "Epoch: 14 | Loss: 0.7688419106933806\n"
     ]
    },
    {
     "name": "stderr",
     "output_type": "stream",
     "text": [
      "100%|██████████| 2250/2250 [08:17<00:00,  4.52it/s]\n"
     ]
    },
    {
     "name": "stdout",
     "output_type": "stream",
     "text": [
      "Epoch: 15 | Loss: 0.7670986092090607\n"
     ]
    },
    {
     "name": "stderr",
     "output_type": "stream",
     "text": [
      "100%|██████████| 2250/2250 [08:22<00:00,  4.48it/s]\n"
     ]
    },
    {
     "name": "stdout",
     "output_type": "stream",
     "text": [
      "Epoch: 16 | Loss: 0.7654236648347643\n"
     ]
    },
    {
     "name": "stderr",
     "output_type": "stream",
     "text": [
      "100%|██████████| 2250/2250 [07:58<00:00,  4.70it/s]\n"
     ]
    },
    {
     "name": "stdout",
     "output_type": "stream",
     "text": [
      "Epoch: 17 | Loss: 0.7637739181783464\n"
     ]
    },
    {
     "name": "stderr",
     "output_type": "stream",
     "text": [
      "100%|██████████| 2250/2250 [07:54<00:00,  4.74it/s]\n"
     ]
    },
    {
     "name": "stdout",
     "output_type": "stream",
     "text": [
      "Epoch: 18 | Loss: 0.7599073525799646\n"
     ]
    },
    {
     "name": "stderr",
     "output_type": "stream",
     "text": [
      "100%|██████████| 2250/2250 [08:02<00:00,  4.67it/s]"
     ]
    },
    {
     "name": "stdout",
     "output_type": "stream",
     "text": [
      "Epoch: 19 | Loss: 0.7592152256303364\n"
     ]
    },
    {
     "name": "stderr",
     "output_type": "stream",
     "text": [
      "\n"
     ]
    }
   ],
   "source": [
    "for epoch in range(NUM_EPOCHS):\n",
    "    total_loss = 0.\n",
    "\n",
    "    with tqdm(total=len(train_dataset)) as pbar:\n",
    "        for batch, (x, y) in enumerate(train_dataset):\n",
    "            inp_mask = tf.expand_dims(x != 0, axis=1)\n",
    "            tgt_mask = tf.cast(y != 0, tf.float32)\n",
    "            \n",
    "            with tf.GradientTape() as tape:\n",
    "                loss = tf.constant(0.0)\n",
    "                enc_outputs, enc_states = encoder(x)\n",
    "                dec_states = enc_states\n",
    "\n",
    "                dec_input = tf.expand_dims(y[:, 0], axis=1)\n",
    "                for t in range(1, x.shape[1]):\n",
    "                    dec_outputs, dec_states, tmp_a = decoder(\n",
    "                        dec_input, enc_outputs, \n",
    "                        dec_states, inp_mask)\n",
    "\n",
    "                    loss += loss_fn(\n",
    "                        tf.expand_dims(y[:, t], axis=1), dec_outputs)\n",
    "                    dec_input = tf.expand_dims(y[:, t], axis=1)\n",
    "                    \n",
    "                loss = loss/tf.reduce_sum(tgt_mask)\n",
    "            \n",
    "            variables = (encoder.trainable_variables + \n",
    "            decoder.trainable_variables)\n",
    "            gradients = tape.gradient(loss, variables)\n",
    "            trainer.apply_gradients(zip(gradients, variables))\n",
    "            total_loss += loss.numpy()\n",
    "            pbar.update(1)\n",
    "        \n",
    "    epoch_loss = total_loss/len(train_dataset)\n",
    "    history['loss'].append(epoch_loss)\n",
    "    print(f'Epoch: {epoch} | Loss: {epoch_loss}')\n"
   ]
  },
  {
   "cell_type": "code",
   "execution_count": 86,
   "metadata": {},
   "outputs": [
    {
     "data": {
      "image/png": "[encoded data removed]",
      "text/plain": [
       "<Figure size 640x480 with 1 Axes>"
      ]
     },
     "metadata": {},
     "output_type": "display_data"
    }
   ],
   "source": [
    "epochs = list(range(len(history['loss'])))\n",
    "plt.plot(epochs, history['loss'])\n",
    "plt.title('Training Loss')\n",
    "plt.xlabel('Epoch')\n",
    "plt.ylabel('Loss')\n",
    "plt.show()"
   ]
  },
  {
   "cell_type": "code",
   "execution_count": 17,
   "metadata": {},
   "outputs": [
    {
     "data": {
      "text/plain": [
       "2"
      ]
     },
     "execution_count": 17,
     "metadata": {},
     "output_type": "execute_result"
    }
   ],
   "source": [
    "tar_tokenizer.word_index['<start>']"
   ]
  },
  {
   "cell_type": "code",
   "execution_count": 18,
   "metadata": {},
   "outputs": [],
   "source": [
    "def predict_seq2seq(encoder, decoder, src_tokens, tar_tokenizer, num_steps):\n",
    "    enc_X = tf.expand_dims(src_tokens, axis=0)\n",
    "    mask = tf.expand_dims(enc_X != 0, 1)\n",
    "\n",
    "    enc_outputs, enc_state = encoder(enc_X, training=False)\n",
    "    dec_state = enc_state\n",
    "    dec_X = tf.expand_dims(tf.constant([tar_tokenizer.word_index['<start>']]), axis=0)\n",
    "    output_seq = []\n",
    "    attention_weights = []\n",
    "    for _ in range(num_steps):\n",
    "        Y, dec_state, att_wgts = decoder(\n",
    "            dec_X, enc_outputs, dec_state, mask,training=False)\n",
    "        dec_X = tf.argmax(Y, axis=2)\n",
    "        pred = tf.squeeze(dec_X, axis=0)\n",
    "        if pred[0].numpy() == tar_tokenizer.word_index['<end>']:\n",
    "            break\n",
    "        output_seq.append(pred[0].numpy())\n",
    "        attention_weights.append(tf.squeeze(att_wgts, 0))\n",
    "    attention_weights = tf.squeeze(tf.stack(attention_weights, axis=0), 1)\n",
    "    return detokenize(output_seq, tar_tokenizer), attention_weights"
   ]
  },
  {
   "cell_type": "code",
   "execution_count": 19,
   "metadata": {},
   "outputs": [],
   "source": [
    "eng, hin = next(iter(train_dataset))\n",
    "# print(train_dataset)\n",
    "# print(eng)"
   ]
  },
  {
   "cell_type": "code",
   "execution_count": 20,
   "metadata": {},
   "outputs": [
    {
     "name": "stdout",
     "output_type": "stream",
     "text": [
      "ich mag solche dinge \n",
      "Input Sentence:      ich mag solche dinge \n",
      "Predicted Translation: uniforms questioning gymnasium untidy contemptuously age ends measurement outlaw bomb \n",
      "Actual Translation:    i like to do things like that \n"
     ]
    }
   ],
   "source": [
    "idx = -5\n",
    "actual_seq = detokenize(hin[idx].numpy(),tar_tokenizer)\n",
    "translation, att_wgts = predict_seq2seq(encoder, decoder, eng[idx], tar_tokenizer, 10)\n",
    "eng_sent = detokenize(eng[idx].numpy(), inp_tokenizer)\n",
    "print(eng_sent)\n",
    "print(f'Input Sentence:      {eng_sent}')\n",
    "print(f'Predicted Translation: {translation}')\n",
    "print(f'Actual Translation:    {actual_seq}')"
   ]
  },
  {
   "cell_type": "code",
   "execution_count": 21,
   "metadata": {},
   "outputs": [],
   "source": [
    "def translate(lines,inp_tokenizer,tar_tokenizer,encoder,decoder,max_len=10):\n",
    "    \n",
    "    exclude = set(string.punctuation)\n",
    "    prep_lines = []\n",
    "\n",
    "    for i in lines:\n",
    "        prep_lines.append([preprocess(i, exclude, sp_tokens=False)])\n",
    "    \n",
    "    input_tensors = []\n",
    "\n",
    "    for i in prep_lines:\n",
    "        inp = i[0].split(' ')\n",
    "        tensor = []\n",
    "        for j in inp:\n",
    "            # check for oov\n",
    "            if j not in inp_tokenizer.word_index.keys():\n",
    "                tensor.append(inp_tokenizer.word_index['<unk>'])\n",
    "            else:\n",
    "                tensor.append(inp_tokenizer.word_index[j])\n",
    "        input_tensors.append(tensor)\n",
    "            \n",
    "    for input_tensor in input_tensors:\n",
    "        temp_max_len = max(max_len,len(input_tensor))\n",
    "        for i in range(temp_max_len-len(input_tensor)):\n",
    "            input_tensor.append(0)\n",
    "\n",
    "    for input_tensor in input_tensors:\n",
    "        input_tensor = tf.convert_to_tensor(input_tensor)\n",
    "\n",
    "    translations = []\n",
    "\n",
    "    for input_tensor in input_tensors:\n",
    "        translation, _ = predict_seq2seq(encoder, decoder, input_tensor, tar_tokenizer,10)\n",
    "        translations.append(translation)\n",
    "    \n",
    "    print(translations) \n",
    "    \n",
    "    return translations"
   ]
  },
  {
   "cell_type": "code",
   "execution_count": 22,
   "metadata": {},
   "outputs": [
    {
     "name": "stdout",
     "output_type": "stream",
     "text": [
      "['accepted skunk connected fantastic signs blame download download bewildered bewildered ', 'accepted accepted skunk inhibitions signs download download bewildered signs blame ']\n",
      "['accepted skunk connected fantastic signs blame download download bewildered bewildered ', 'accepted accepted skunk inhibitions signs download download bewildered signs blame ']\n"
     ]
    }
   ],
   "source": [
    "print(translate([\"anuj\",\"how are you?\"],inp_tokenizer,tar_tokenizer,encoder=encoder,decoder=decoder))"
   ]
  },
  {
   "cell_type": "code",
   "execution_count": 23,
   "metadata": {},
   "outputs": [],
   "source": [
    "def get_df(lines):\n",
    "    translation = {'Tokenised Original':[],'Reference':[],'Translation':[]}\n",
    "    lines = lines[:50]\n",
    "    text = []\n",
    "    ref = []\n",
    "    trans = []\n",
    "    for i in lines:\n",
    "        t = i.split('\\t')\n",
    "        text.append(t[0])\n",
    "        ref.append(t[1])   \n",
    "    trans = translate(text,inp_tokenizer,tar_tokenizer,encoder=encoder,decoder=decoder)\n",
    "    for i in range(len(trans)):\n",
    "        translation['Tokenised Original'].append(text[i])\n",
    "        translation['Reference'].append(ref[i])\n",
    "        translation['Translation'].append(trans[i])\n",
    "    df = pd.DataFrame(translation)\n",
    "    return df\n"
   ]
  },
  {
   "cell_type": "code",
   "execution_count": 24,
   "metadata": {},
   "outputs": [
    {
     "name": "stdout",
     "output_type": "stream",
     "text": [
      "['farther unintelligent ah swelling liquid locating bookkeeping climb foots wellbeing ', 'digital gucci soldiers gain soldiers secondrate mother microscope crouched digital ', 'lavender fortunately index loud loud loud approximately loud loud sprouted ', 'decorating talk faded lifeordeath granted granted student squatting chalk gi ', 'liquor blackie deal boards cooler crafty crafty skateboard york york ', '1941 updated horn 89 undefeated 89 mock alice alice beasts ', 'squeaked solomon brushed diagonally precious diagonally precious solomon brushed brushed ', 'spotlight lent reply snoozed snoozed simplest delete fog simplest fog ', 'astonishment dwell eats advantage embarrassing juice slam opposing around bullet ', 'worry diamonds orbits intellectual worry brighten fax robe most divorces ', 'sandwich sandwich ironic bare valentina maruzen mustaches unfolded maruzen unfolded ', 'farther unintelligent ah swelling liquid locating bookkeeping climb foots wellbeing ', 'jeep beards unfortunate environments thumb thumb thumb thumb ladybug thumb ', 'jeep pays eighty eighty lessened heir heir reincarnation corner masochist ', 'celsius rigid breeding solving thicker pile pile lowcost suspicion suspicion ', 'wash thunder simplest simplest stirring associated associated associated random random ', 'thered thered neurotic nextdoor nextdoor nextdoor nero delivers combine inevitable ', 'jeep astrology environments heirlooms unlike recession mums euro battleship pockets ', 'tenspeed potters bluffing stormed brides boxer rush rush rush financially ', 'needs needs bearded competence competence competence snowflakes turning martin dad ', 'radar less ends utterly anniversaries serpent spike sermon advantage embarrassing ', 'therapy therapy skin green wrap brunettes ukrainian suspenders locals hear ', 'forming reconcile rational illusion credit chases credit haley mornings watches ', 'yielded erased yielded gave gave shortterm shortterm reapply grind polka ', 'yielded yielded guide handtomouth high ashes napping kitten dizzy yielded ', 'chalk search fashioned suffering seattle discrimination discrimination accepting far respected ', '27th 27th shower troublemaker troublemaker snowfall neat slippers historical yes ', 'cheese dispute bay lumber that\\xa0as seat empties 120 segment regret ', 'reign legendary legendary exact odd boat housewife oceans reputable marlowe ', 'weed costume ours tormented corners pregnant history senselessness sweeping sweeping ', 'sneeze intense neurotic neurotic thousands laughing nearer nearer nearer departs ', 'baseball consist plants plants plants immigrated history butterflys heroic unfaithful ', 'catalogue backpack manner unopened unopened nigger collected asking unfaithful absorbed ', 'jeep ammonia bachelor pansies bachelor bean doctors doctors thigh niece ', 'wash assassin suppressed backwards ascended unfaithful human parents autistic tennessee ', 'ascended placebo ladybug cricket blackberries forged blackberries billions retired retired ', 'stupidity an 24100 daydreaming popularize an grain truth ship placebo ', 'jeep physically ammonia ladybug corner bracelet quincy likeable creationist extravagant ', 'creeps squeaked lodging contemptuously h₂o ladybug interrupted spicy sealed poorer ', 'baseball airraid gangster pansies poster footprint martial sunday assuming positive ', 'jeep pays elizabeth artillery catalogue relax doctors doctors doctors thigh ', 'jeep astrology proposed astrology material colonies stone bomb measurement outlaw ', 'never ends consist acute restaurant libraries men cocacola incapable incapable ', 'creeps creeps spider eighty eighty tattooed possess possess empties grizzly ', 'wash altar magellan chemical exaggerate exaggerate exaggerate exaggerate assisted portions ', '89 nun nun nun nun nun nun nun nun nun ', 'squirrel jeep jeep physically developments over over lion lion prescribed ', 'uphill spends lunar blackie dwell throwing meat disgrace actor meat ', 'down down down mugs seldom russian summarily horn empties reincarnation ', 'boarded bank canned racist busier humid clouds snowflakes snowflakes immortality ']\n"
     ]
    },
    {
     "data": {
      "text/html": [
       "<div>\n",
       "<style scoped>\n",
       "    .dataframe tbody tr th:only-of-type {\n",
       "        vertical-align: middle;\n",
       "    }\n",
       "\n",
       "    .dataframe tbody tr th {\n",
       "        vertical-align: top;\n",
       "    }\n",
       "\n",
       "    .dataframe thead th {\n",
       "        text-align: right;\n",
       "    }\n",
       "</style>\n",
       "<table border=\"1\" class=\"dataframe\">\n",
       "  <thead>\n",
       "    <tr style=\"text-align: right;\">\n",
       "      <th></th>\n",
       "      <th>Tokenised Original</th>\n",
       "      <th>Reference</th>\n",
       "      <th>Translation</th>\n",
       "    </tr>\n",
       "  </thead>\n",
       "  <tbody>\n",
       "    <tr>\n",
       "      <th>0</th>\n",
       "      <td>Hallo!</td>\n",
       "      <td>Hi.</td>\n",
       "      <td>farther unintelligent ah swelling liquid locat...</td>\n",
       "    </tr>\n",
       "    <tr>\n",
       "      <th>1</th>\n",
       "      <td>Grüß Gott!</td>\n",
       "      <td>Hi.</td>\n",
       "      <td>digital gucci soldiers gain soldiers secondrat...</td>\n",
       "    </tr>\n",
       "    <tr>\n",
       "      <th>2</th>\n",
       "      <td>Lauf!</td>\n",
       "      <td>Run!</td>\n",
       "      <td>lavender fortunately index loud loud loud appr...</td>\n",
       "    </tr>\n",
       "    <tr>\n",
       "      <th>3</th>\n",
       "      <td>Potzdonner!</td>\n",
       "      <td>Wow!</td>\n",
       "      <td>decorating talk faded lifeordeath granted gran...</td>\n",
       "    </tr>\n",
       "    <tr>\n",
       "      <th>4</th>\n",
       "      <td>Donnerwetter!</td>\n",
       "      <td>Wow!</td>\n",
       "      <td>liquor blackie deal boards cooler crafty craft...</td>\n",
       "    </tr>\n",
       "    <tr>\n",
       "      <th>5</th>\n",
       "      <td>Feuer!</td>\n",
       "      <td>Fire!</td>\n",
       "      <td>1941 updated horn 89 undefeated 89 mock alice ...</td>\n",
       "    </tr>\n",
       "    <tr>\n",
       "      <th>6</th>\n",
       "      <td>Hilfe!</td>\n",
       "      <td>Help!</td>\n",
       "      <td>squeaked solomon brushed diagonally precious d...</td>\n",
       "    </tr>\n",
       "    <tr>\n",
       "      <th>7</th>\n",
       "      <td>Zu Hülf!</td>\n",
       "      <td>Help!</td>\n",
       "      <td>spotlight lent reply snoozed snoozed simplest ...</td>\n",
       "    </tr>\n",
       "    <tr>\n",
       "      <th>8</th>\n",
       "      <td>Stopp!</td>\n",
       "      <td>Stop!</td>\n",
       "      <td>astonishment dwell eats advantage embarrassing...</td>\n",
       "    </tr>\n",
       "    <tr>\n",
       "      <th>9</th>\n",
       "      <td>Warte!</td>\n",
       "      <td>Wait!</td>\n",
       "      <td>worry diamonds orbits intellectual worry brigh...</td>\n",
       "    </tr>\n",
       "    <tr>\n",
       "      <th>10</th>\n",
       "      <td>Mach weiter.</td>\n",
       "      <td>Go on.</td>\n",
       "      <td>sandwich sandwich ironic bare valentina maruze...</td>\n",
       "    </tr>\n",
       "    <tr>\n",
       "      <th>11</th>\n",
       "      <td>Hallo!</td>\n",
       "      <td>Hello!</td>\n",
       "      <td>farther unintelligent ah swelling liquid locat...</td>\n",
       "    </tr>\n",
       "    <tr>\n",
       "      <th>12</th>\n",
       "      <td>Ich rannte.</td>\n",
       "      <td>I ran.</td>\n",
       "      <td>jeep beards unfortunate environments thumb thu...</td>\n",
       "    </tr>\n",
       "    <tr>\n",
       "      <th>13</th>\n",
       "      <td>Ich verstehe.</td>\n",
       "      <td>I see.</td>\n",
       "      <td>jeep pays eighty eighty lessened heir heir rei...</td>\n",
       "    </tr>\n",
       "    <tr>\n",
       "      <th>14</th>\n",
       "      <td>Aha.</td>\n",
       "      <td>I see.</td>\n",
       "      <td>celsius rigid breeding solving thicker pile pi...</td>\n",
       "    </tr>\n",
       "    <tr>\n",
       "      <th>15</th>\n",
       "      <td>Ich probiere es.</td>\n",
       "      <td>I try.</td>\n",
       "      <td>wash thunder simplest simplest stirring associ...</td>\n",
       "    </tr>\n",
       "    <tr>\n",
       "      <th>16</th>\n",
       "      <td>Ich hab gewonnen!</td>\n",
       "      <td>I won!</td>\n",
       "      <td>thered thered neurotic nextdoor nextdoor nextd...</td>\n",
       "    </tr>\n",
       "    <tr>\n",
       "      <th>17</th>\n",
       "      <td>Ich habe gewonnen!</td>\n",
       "      <td>I won!</td>\n",
       "      <td>jeep astrology environments heirlooms unlike r...</td>\n",
       "    </tr>\n",
       "    <tr>\n",
       "      <th>18</th>\n",
       "      <td>Lächeln!</td>\n",
       "      <td>Smile.</td>\n",
       "      <td>tenspeed potters bluffing stormed brides boxer...</td>\n",
       "    </tr>\n",
       "    <tr>\n",
       "      <th>19</th>\n",
       "      <td>Zum Wohl!</td>\n",
       "      <td>Cheers!</td>\n",
       "      <td>needs needs bearded competence competence comp...</td>\n",
       "    </tr>\n",
       "    <tr>\n",
       "      <th>20</th>\n",
       "      <td>Keine Bewegung!</td>\n",
       "      <td>Freeze!</td>\n",
       "      <td>radar less ends utterly anniversaries serpent ...</td>\n",
       "    </tr>\n",
       "    <tr>\n",
       "      <th>21</th>\n",
       "      <td>Stehenbleiben!</td>\n",
       "      <td>Freeze!</td>\n",
       "      <td>therapy therapy skin green wrap brunettes ukra...</td>\n",
       "    </tr>\n",
       "    <tr>\n",
       "      <th>22</th>\n",
       "      <td>Kapiert?</td>\n",
       "      <td>Got it?</td>\n",
       "      <td>forming reconcile rational illusion credit cha...</td>\n",
       "    </tr>\n",
       "    <tr>\n",
       "      <th>23</th>\n",
       "      <td>Verstanden?</td>\n",
       "      <td>Got it?</td>\n",
       "      <td>yielded erased yielded gave gave shortterm sho...</td>\n",
       "    </tr>\n",
       "    <tr>\n",
       "      <th>24</th>\n",
       "      <td>Einverstanden?</td>\n",
       "      <td>Got it?</td>\n",
       "      <td>yielded yielded guide handtomouth high ashes n...</td>\n",
       "    </tr>\n",
       "    <tr>\n",
       "      <th>25</th>\n",
       "      <td>Er rannte.</td>\n",
       "      <td>He ran.</td>\n",
       "      <td>chalk search fashioned suffering seattle discr...</td>\n",
       "    </tr>\n",
       "    <tr>\n",
       "      <th>26</th>\n",
       "      <td>Er lief.</td>\n",
       "      <td>He ran.</td>\n",
       "      <td>27th 27th shower troublemaker troublemaker sno...</td>\n",
       "    </tr>\n",
       "    <tr>\n",
       "      <th>27</th>\n",
       "      <td>Mach mit!</td>\n",
       "      <td>Hop in.</td>\n",
       "      <td>cheese dispute bay lumber that as seat empties...</td>\n",
       "    </tr>\n",
       "    <tr>\n",
       "      <th>28</th>\n",
       "      <td>Drück mich!</td>\n",
       "      <td>Hug me.</td>\n",
       "      <td>reign legendary legendary exact odd boat house...</td>\n",
       "    </tr>\n",
       "    <tr>\n",
       "      <th>29</th>\n",
       "      <td>Nimm mich in den Arm!</td>\n",
       "      <td>Hug me.</td>\n",
       "      <td>weed costume ours tormented corners pregnant h...</td>\n",
       "    </tr>\n",
       "    <tr>\n",
       "      <th>30</th>\n",
       "      <td>Umarme mich!</td>\n",
       "      <td>Hug me.</td>\n",
       "      <td>sneeze intense neurotic neurotic thousands lau...</td>\n",
       "    </tr>\n",
       "    <tr>\n",
       "      <th>31</th>\n",
       "      <td>Ich fiel.</td>\n",
       "      <td>I fell.</td>\n",
       "      <td>baseball consist plants plants plants immigrat...</td>\n",
       "    </tr>\n",
       "    <tr>\n",
       "      <th>32</th>\n",
       "      <td>Ich fiel hin.</td>\n",
       "      <td>I fell.</td>\n",
       "      <td>catalogue backpack manner unopened unopened ni...</td>\n",
       "    </tr>\n",
       "    <tr>\n",
       "      <th>33</th>\n",
       "      <td>Ich stürzte.</td>\n",
       "      <td>I fell.</td>\n",
       "      <td>jeep ammonia bachelor pansies bachelor bean do...</td>\n",
       "    </tr>\n",
       "    <tr>\n",
       "      <th>34</th>\n",
       "      <td>Ich bin hingefallen.</td>\n",
       "      <td>I fell.</td>\n",
       "      <td>wash assassin suppressed backwards ascended un...</td>\n",
       "    </tr>\n",
       "    <tr>\n",
       "      <th>35</th>\n",
       "      <td>Ich bin gestürzt.</td>\n",
       "      <td>I fell.</td>\n",
       "      <td>ascended placebo ladybug cricket blackberries ...</td>\n",
       "    </tr>\n",
       "    <tr>\n",
       "      <th>36</th>\n",
       "      <td>Ich weiß.</td>\n",
       "      <td>I know.</td>\n",
       "      <td>stupidity an 24100 daydreaming popularize an g...</td>\n",
       "    </tr>\n",
       "    <tr>\n",
       "      <th>37</th>\n",
       "      <td>Ich habe gelogen.</td>\n",
       "      <td>I lied.</td>\n",
       "      <td>jeep physically ammonia ladybug corner bracele...</td>\n",
       "    </tr>\n",
       "    <tr>\n",
       "      <th>38</th>\n",
       "      <td>Ich habe verloren.</td>\n",
       "      <td>I lost.</td>\n",
       "      <td>creeps squeaked lodging contemptuously h₂o lad...</td>\n",
       "    </tr>\n",
       "    <tr>\n",
       "      <th>39</th>\n",
       "      <td>Ich habe bezahlt.</td>\n",
       "      <td>I paid.</td>\n",
       "      <td>baseball airraid gangster pansies poster footp...</td>\n",
       "    </tr>\n",
       "    <tr>\n",
       "      <th>40</th>\n",
       "      <td>Ich zahlte.</td>\n",
       "      <td>I paid.</td>\n",
       "      <td>jeep pays elizabeth artillery catalogue relax ...</td>\n",
       "    </tr>\n",
       "    <tr>\n",
       "      <th>41</th>\n",
       "      <td>Ich sang.</td>\n",
       "      <td>I sang.</td>\n",
       "      <td>jeep astrology proposed astrology material col...</td>\n",
       "    </tr>\n",
       "    <tr>\n",
       "      <th>42</th>\n",
       "      <td>Ich schwimme.</td>\n",
       "      <td>I swim.</td>\n",
       "      <td>never ends consist acute restaurant libraries ...</td>\n",
       "    </tr>\n",
       "    <tr>\n",
       "      <th>43</th>\n",
       "      <td>Ich bin 19 Jahre alt.</td>\n",
       "      <td>I'm 19.</td>\n",
       "      <td>creeps creeps spider eighty eighty tattooed po...</td>\n",
       "    </tr>\n",
       "    <tr>\n",
       "      <th>44</th>\n",
       "      <td>Ich bin 19.</td>\n",
       "      <td>I'm 19.</td>\n",
       "      <td>wash altar magellan chemical exaggerate exagge...</td>\n",
       "    </tr>\n",
       "    <tr>\n",
       "      <th>45</th>\n",
       "      <td>Mir geht's gut.</td>\n",
       "      <td>I'm OK.</td>\n",
       "      <td>89 nun nun nun nun nun nun nun nun nun</td>\n",
       "    </tr>\n",
       "    <tr>\n",
       "      <th>46</th>\n",
       "      <td>Es geht mir gut.</td>\n",
       "      <td>I'm OK.</td>\n",
       "      <td>squirrel jeep jeep physically developments ove...</td>\n",
       "    </tr>\n",
       "    <tr>\n",
       "      <th>47</th>\n",
       "      <td>Ich bin wach.</td>\n",
       "      <td>I'm up.</td>\n",
       "      <td>uphill spends lunar blackie dwell throwing mea...</td>\n",
       "    </tr>\n",
       "    <tr>\n",
       "      <th>48</th>\n",
       "      <td>Ich bin auf.</td>\n",
       "      <td>I'm up.</td>\n",
       "      <td>down down down mugs seldom russian summarily h...</td>\n",
       "    </tr>\n",
       "    <tr>\n",
       "      <th>49</th>\n",
       "      <td>Unmöglich!</td>\n",
       "      <td>No way!</td>\n",
       "      <td>boarded bank canned racist busier humid clouds...</td>\n",
       "    </tr>\n",
       "  </tbody>\n",
       "</table>\n",
       "</div>"
      ],
      "text/plain": [
       "       Tokenised Original Reference  \\\n",
       "0                  Hallo!       Hi.   \n",
       "1              Grüß Gott!       Hi.   \n",
       "2                   Lauf!      Run!   \n",
       "3             Potzdonner!      Wow!   \n",
       "4           Donnerwetter!      Wow!   \n",
       "5                  Feuer!     Fire!   \n",
       "6                  Hilfe!     Help!   \n",
       "7                Zu Hülf!     Help!   \n",
       "8                  Stopp!     Stop!   \n",
       "9                  Warte!     Wait!   \n",
       "10           Mach weiter.    Go on.   \n",
       "11                 Hallo!    Hello!   \n",
       "12            Ich rannte.    I ran.   \n",
       "13          Ich verstehe.    I see.   \n",
       "14                   Aha.    I see.   \n",
       "15       Ich probiere es.    I try.   \n",
       "16      Ich hab gewonnen!    I won!   \n",
       "17     Ich habe gewonnen!    I won!   \n",
       "18               Lächeln!    Smile.   \n",
       "19              Zum Wohl!   Cheers!   \n",
       "20        Keine Bewegung!   Freeze!   \n",
       "21         Stehenbleiben!   Freeze!   \n",
       "22               Kapiert?   Got it?   \n",
       "23            Verstanden?   Got it?   \n",
       "24         Einverstanden?   Got it?   \n",
       "25             Er rannte.   He ran.   \n",
       "26               Er lief.   He ran.   \n",
       "27              Mach mit!   Hop in.   \n",
       "28            Drück mich!   Hug me.   \n",
       "29  Nimm mich in den Arm!   Hug me.   \n",
       "30           Umarme mich!   Hug me.   \n",
       "31              Ich fiel.   I fell.   \n",
       "32          Ich fiel hin.   I fell.   \n",
       "33           Ich stürzte.   I fell.   \n",
       "34   Ich bin hingefallen.   I fell.   \n",
       "35      Ich bin gestürzt.   I fell.   \n",
       "36              Ich weiß.   I know.   \n",
       "37      Ich habe gelogen.   I lied.   \n",
       "38     Ich habe verloren.   I lost.   \n",
       "39      Ich habe bezahlt.   I paid.   \n",
       "40            Ich zahlte.   I paid.   \n",
       "41              Ich sang.   I sang.   \n",
       "42          Ich schwimme.   I swim.   \n",
       "43  Ich bin 19 Jahre alt.   I'm 19.   \n",
       "44            Ich bin 19.   I'm 19.   \n",
       "45        Mir geht's gut.   I'm OK.   \n",
       "46       Es geht mir gut.   I'm OK.   \n",
       "47          Ich bin wach.   I'm up.   \n",
       "48           Ich bin auf.   I'm up.   \n",
       "49             Unmöglich!   No way!   \n",
       "\n",
       "                                          Translation  \n",
       "0   farther unintelligent ah swelling liquid locat...  \n",
       "1   digital gucci soldiers gain soldiers secondrat...  \n",
       "2   lavender fortunately index loud loud loud appr...  \n",
       "3   decorating talk faded lifeordeath granted gran...  \n",
       "4   liquor blackie deal boards cooler crafty craft...  \n",
       "5   1941 updated horn 89 undefeated 89 mock alice ...  \n",
       "6   squeaked solomon brushed diagonally precious d...  \n",
       "7   spotlight lent reply snoozed snoozed simplest ...  \n",
       "8   astonishment dwell eats advantage embarrassing...  \n",
       "9   worry diamonds orbits intellectual worry brigh...  \n",
       "10  sandwich sandwich ironic bare valentina maruze...  \n",
       "11  farther unintelligent ah swelling liquid locat...  \n",
       "12  jeep beards unfortunate environments thumb thu...  \n",
       "13  jeep pays eighty eighty lessened heir heir rei...  \n",
       "14  celsius rigid breeding solving thicker pile pi...  \n",
       "15  wash thunder simplest simplest stirring associ...  \n",
       "16  thered thered neurotic nextdoor nextdoor nextd...  \n",
       "17  jeep astrology environments heirlooms unlike r...  \n",
       "18  tenspeed potters bluffing stormed brides boxer...  \n",
       "19  needs needs bearded competence competence comp...  \n",
       "20  radar less ends utterly anniversaries serpent ...  \n",
       "21  therapy therapy skin green wrap brunettes ukra...  \n",
       "22  forming reconcile rational illusion credit cha...  \n",
       "23  yielded erased yielded gave gave shortterm sho...  \n",
       "24  yielded yielded guide handtomouth high ashes n...  \n",
       "25  chalk search fashioned suffering seattle discr...  \n",
       "26  27th 27th shower troublemaker troublemaker sno...  \n",
       "27  cheese dispute bay lumber that as seat empties...  \n",
       "28  reign legendary legendary exact odd boat house...  \n",
       "29  weed costume ours tormented corners pregnant h...  \n",
       "30  sneeze intense neurotic neurotic thousands lau...  \n",
       "31  baseball consist plants plants plants immigrat...  \n",
       "32  catalogue backpack manner unopened unopened ni...  \n",
       "33  jeep ammonia bachelor pansies bachelor bean do...  \n",
       "34  wash assassin suppressed backwards ascended un...  \n",
       "35  ascended placebo ladybug cricket blackberries ...  \n",
       "36  stupidity an 24100 daydreaming popularize an g...  \n",
       "37  jeep physically ammonia ladybug corner bracele...  \n",
       "38  creeps squeaked lodging contemptuously h₂o lad...  \n",
       "39  baseball airraid gangster pansies poster footp...  \n",
       "40  jeep pays elizabeth artillery catalogue relax ...  \n",
       "41  jeep astrology proposed astrology material col...  \n",
       "42  never ends consist acute restaurant libraries ...  \n",
       "43  creeps creeps spider eighty eighty tattooed po...  \n",
       "44  wash altar magellan chemical exaggerate exagge...  \n",
       "45            89 nun nun nun nun nun nun nun nun nun   \n",
       "46  squirrel jeep jeep physically developments ove...  \n",
       "47  uphill spends lunar blackie dwell throwing mea...  \n",
       "48  down down down mugs seldom russian summarily h...  \n",
       "49  boarded bank canned racist busier humid clouds...  "
      ]
     },
     "execution_count": 24,
     "metadata": {},
     "output_type": "execute_result"
    }
   ],
   "source": [
    "df = get_df(lines)\n",
    "df"
   ]
  },
  {
   "cell_type": "code",
   "execution_count": 95,
   "metadata": {},
   "outputs": [],
   "source": [
    "import pickle\n",
    "with open('encoder_attention_v1.pickle', 'wb') as f:\n",
    "    pickle.dump(encoder, f)\n",
    "with open('decoder_attention_v1.pickle', 'wb') as f:\n",
    "    pickle.dump(decoder, f)"
   ]
  },
  {
   "cell_type": "code",
   "execution_count": 25,
   "metadata": {},
   "outputs": [
    {
     "name": "stdout",
     "output_type": "stream",
     "text": [
      "['answering mysteries crossbow inflatable llama filled grapevine aardvarks done must ']\n",
      "['answering mysteries crossbow inflatable llama filled grapevine aardvarks done must ']\n"
     ]
    }
   ],
   "source": [
    "print(translate([\"wo ist er\"],inp_tokenizer,tar_tokenizer,encoder=encoder,decoder=decoder))"
   ]
  },
  {
   "cell_type": "code",
   "execution_count": 97,
   "metadata": {},
   "outputs": [],
   "source": [
    "with open('X_tokenizer.pickle', 'wb') as f:\n",
    "    pickle.dump(inp_tokenizer, f)\n",
    "\n",
    "with open('Y_tokenizer.pickle', 'wb') as f:\n",
    "    pickle.dump(tar_tokenizer, f)"
   ]
  },
  {
   "cell_type": "code",
   "execution_count": 1,
   "metadata": {},
   "outputs": [],
   "source": [
    "import pickle\n",
    "# encoder_loaded = pickle.load(open('encoder_attention_v1.pickle', 'rb'))\n",
    "# decoder_loaded = pickle.load(open('decoder_attention_v1.pickle', 'rb'))\n",
    "\n",
    "\n",
    "# print(encoder_loaded)\n",
    "# print(decoder_loaded)\n",
    "X_tokenizer_loaded = pickle.load(open('X_tokenizer.pickle', 'rb'))\n",
    "Y_tokenizer_loaded = pickle.load(open('Y_tokenizer.pickle', 'rb'))\n",
    "\n",
    "# print(translate([\"ich bin klug\"],X_tokenizer_loaded,Y_tokenizer_loaded,encoder=encoder_loaded,decoder=decoder_loaded))"
   ]
  },
  {
   "cell_type": "code",
   "execution_count": 2,
   "metadata": {},
   "outputs": [
    {
     "ename": "KeyboardInterrupt",
     "evalue": "",
     "output_type": "error",
     "traceback": [
      "\u001b[0;31m---------------------------------------------------------------------------\u001b[0m",
      "\u001b[0;31mKeyboardInterrupt\u001b[0m                         Traceback (most recent call last)",
      "Cell \u001b[0;32mIn[2], line 1\u001b[0m\n\u001b[0;32m----> 1\u001b[0m encoder_loaded \u001b[38;5;241m=\u001b[39m \u001b[43mpickle\u001b[49m\u001b[38;5;241;43m.\u001b[39;49m\u001b[43mload\u001b[49m\u001b[43m(\u001b[49m\u001b[38;5;28;43mopen\u001b[39;49m\u001b[43m(\u001b[49m\u001b[38;5;124;43m'\u001b[39;49m\u001b[38;5;124;43mencoder_attention_v1.pickle\u001b[39;49m\u001b[38;5;124;43m'\u001b[39;49m\u001b[43m,\u001b[49m\u001b[43m \u001b[49m\u001b[38;5;124;43m'\u001b[39;49m\u001b[38;5;124;43mrb\u001b[39;49m\u001b[38;5;124;43m'\u001b[39;49m\u001b[43m)\u001b[49m\u001b[43m)\u001b[49m\n",
      "\u001b[0;31mKeyboardInterrupt\u001b[0m: "
     ]
    }
   ],
   "source": [
    "encoder_loaded = pickle.load(open('encoder_attention_v1.pickle', 'rb'))\n"
   ]
  },
  {
   "cell_type": "code",
   "execution_count": 122,
   "metadata": {},
   "outputs": [
    {
     "name": "stdout",
     "output_type": "stream",
     "text": [
      "['im easygoing ']\n",
      "['im easygoing ']\n"
     ]
    }
   ],
   "source": [
    "print(translate([\"ich bin\"],X_tokenizer_loaded,Y_tokenizer_loaded,encoder=encoder_loaded,decoder=decoder_loaded))"
   ]
  }
 ],
 "metadata": {
  "kernelspec": {
   "display_name": "Python 3",
   "language": "python",
   "name": "python3"
  },
  "language_info": {
   "codemirror_mode": {
    "name": "ipython",
    "version": 3
   },
   "file_extension": ".py",
   "mimetype": "text/x-python",
   "name": "python",
   "nbconvert_exporter": "python",
   "pygments_lexer": "ipython3",
   "version": "3.11.6"
  }
 },
 "nbformat": 4,
 "nbformat_minor": 2
}
