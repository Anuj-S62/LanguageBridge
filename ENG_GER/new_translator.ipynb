{
 "cells": [
  {
   "cell_type": "code",
   "execution_count": 4,
   "metadata": {},
   "outputs": [
    {
     "name": "stderr",
     "output_type": "stream",
     "text": [
      "/opt/homebrew/lib/python3.11/site-packages/tqdm/auto.py:21: TqdmWarning: IProgress not found. Please update jupyter and ipywidgets. See https://ipywidgets.readthedocs.io/en/stable/user_install.html\n",
      "  from .autonotebook import tqdm as notebook_tqdm\n"
     ]
    }
   ],
   "source": [
    "# IMPORTS\n",
    "import tensorflow as tf\n",
    "import pandas as pd\n",
    "import numpy as np\n",
    "import matplotlib.pyplot as plt\n",
    "import re\n",
    "import string\n",
    "import random\n",
    "import os\n",
    "\n",
    "from sklearn.model_selection import train_test_split\n",
    "from tqdm.auto import tqdm\n",
    "tqdm.pandas()"
   ]
  },
  {
   "cell_type": "code",
   "execution_count": 6,
   "metadata": {},
   "outputs": [],
   "source": [
    "BATCH_SIZE = 64\n",
    "EMBEDDING_DIM = 50\n",
    "UNITS = 50\n",
    "NUM_EPOCHS = 20\n",
    "max_lines = 180000"
   ]
  },
  {
   "cell_type": "code",
   "execution_count": 7,
   "metadata": {},
   "outputs": [],
   "source": [
    "def preprocess(sent, exclude, sp_tokens=False):\n",
    "    sent = sent.lower()\n",
    "    sent = re.sub(\"'\", '', sent)\n",
    "    sent = ''.join(ch for ch in sent if ch not in exclude)\n",
    "    sent = sent.strip()\n",
    "    sent = re.sub(\" +\", \" \", sent)\n",
    "    if sp_tokens:\n",
    "        sent = '<start> ' + sent + ' <end>'\n",
    "    \n",
    "    return sent\n"
   ]
  },
  {
   "cell_type": "code",
   "execution_count": 8,
   "metadata": {},
   "outputs": [],
   "source": [
    "from keras.preprocessing.text import Tokenizer\n",
    "\n",
    "def Tokenize(text):\n",
    "    tokenizer = Tokenizer(oov_token=\"<unk>\",filters='!\"#$%&()*+,-/:;=@[\\\\]^_`{|}~\\t\\n')\n",
    "    tokenizer.fit_on_texts(text)\n",
    "    return tokenizer"
   ]
  },
  {
   "cell_type": "code",
   "execution_count": 9,
   "metadata": {},
   "outputs": [],
   "source": [
    "# padding\n",
    "def pad_sequences(x, max_len):\n",
    "    padded = tf.keras.preprocessing.sequence.pad_sequences(x, maxlen=max_len, padding='post', truncating='post')\n",
    "    return padded"
   ]
  },
  {
   "cell_type": "code",
   "execution_count": 10,
   "metadata": {},
   "outputs": [],
   "source": [
    "def load_data(path):\n",
    "    with open(path, \"r\", encoding=\"utf-8\") as f:\n",
    "        lines = f.read().split(\"\\n\")\n",
    "    return lines"
   ]
  },
  {
   "cell_type": "code",
   "execution_count": 11,
   "metadata": {},
   "outputs": [
    {
     "name": "stdout",
     "output_type": "stream",
     "text": [
      "['Hi.\\tHallo!', 'Hi.\\tGrüß Gott!', 'Run!\\tLauf!', 'Wow!\\tPotzdonner!', 'Wow!\\tDonnerwetter!']\n"
     ]
    }
   ],
   "source": [
    "lines = load_data(\"eng_ger.txt\")\n",
    "lines = lines[:max_lines]\n",
    "\n",
    "print(lines[:5])"
   ]
  },
  {
   "cell_type": "code",
   "execution_count": 12,
   "metadata": {},
   "outputs": [],
   "source": [
    "def combine(lines):\n",
    "    data = []\n",
    "    exclude = string.punctuation\n",
    "    for line in lines:\n",
    "        text = line.split(\"\\t\")\n",
    "        prep_inp = preprocess(text[0], exclude=exclude, sp_tokens=False)\n",
    "        prep_tar = preprocess(text[1], exclude=exclude, sp_tokens=True)\n",
    "        data.append([prep_inp, prep_tar])\n",
    "    \n",
    "    print(data[:5])\n",
    "    \n",
    "    # tokenize\n",
    "    inp_tokenizer = Tokenize([i[0] for i in data])\n",
    "    tar_tokenizer = Tokenize([i[1] for i in data])\n",
    "\n",
    "    # convert text to sequences\n",
    "    inp_seq = inp_tokenizer.texts_to_sequences([i[0] for i in data])\n",
    "    tar_seq = tar_tokenizer.texts_to_sequences([i[1] for i in data])\n",
    "\n",
    "    print(inp_seq[:5])\n",
    "    print(tar_seq[:5])\n",
    "\n",
    "    # padding\n",
    "    inp_seq = pad_sequences(inp_seq, max_len=10)\n",
    "    tar_seq = pad_sequences(tar_seq, max_len=10)\n",
    "\n",
    "    print(inp_seq[:5])\n",
    "    print(tar_seq[:5])\n",
    "\n",
    "    input_tensor_train, input_tensor_val, target_tensor_train, target_tensor_val = train_test_split(inp_seq, tar_seq, test_size=0.2)\n",
    "\n",
    "    train_dataset = tf.data.Dataset.from_tensor_slices((input_tensor_train, target_tensor_train)).shuffle(len(input_tensor_train))\n",
    "    train_dataset = train_dataset.batch(BATCH_SIZE, drop_remainder=True)\n",
    "\n",
    "    test_dataset = tf.data.Dataset.from_tensor_slices((input_tensor_val, target_tensor_val)).shuffle(len(input_tensor_val))\n",
    "    test_dataset = test_dataset.batch(BATCH_SIZE, drop_remainder=True)\n",
    "\n",
    "    return train_dataset, test_dataset, inp_tokenizer, tar_tokenizer\n",
    "    \n",
    "    \n"
   ]
  },
  {
   "cell_type": "code",
   "execution_count": 13,
   "metadata": {},
   "outputs": [
    {
     "name": "stdout",
     "output_type": "stream",
     "text": [
      "[['hi', '<start> hallo <end>'], ['hi', '<start> grüß gott <end>'], ['run', '<start> lauf <end>'], ['wow', '<start> potzdonner <end>'], ['wow', '<start> donnerwetter <end>']]\n",
      "[[2057], [2057], [459], [3724], [3724]]\n",
      "[[2, 1598, 3], [2, 4079, 1515, 3], [2, 4510, 3], [2, 10096, 3], [2, 12454, 3]]\n",
      "[[2057    0    0    0    0    0    0    0    0    0]\n",
      " [2057    0    0    0    0    0    0    0    0    0]\n",
      " [ 459    0    0    0    0    0    0    0    0    0]\n",
      " [3724    0    0    0    0    0    0    0    0    0]\n",
      " [3724    0    0    0    0    0    0    0    0    0]]\n",
      "[[    2  1598     3     0     0     0     0     0     0     0]\n",
      " [    2  4079  1515     3     0     0     0     0     0     0]\n",
      " [    2  4510     3     0     0     0     0     0     0     0]\n",
      " [    2 10096     3     0     0     0     0     0     0     0]\n",
      " [    2 12454     3     0     0     0     0     0     0     0]]\n"
     ]
    }
   ],
   "source": [
    "train_dataset, test_dataset, inp_tokenizer, tar_tokenizer = combine(lines)\n",
    "input_vocab_size = len(inp_tokenizer.word_index) + 1\n",
    "target_vocab_size = len(tar_tokenizer.word_index) + 1"
   ]
  },
  {
   "cell_type": "code",
   "execution_count": 14,
   "metadata": {},
   "outputs": [
    {
     "name": "stdout",
     "output_type": "stream",
     "text": [
      "<_BatchDataset element_spec=(TensorSpec(shape=(64, 10), dtype=tf.int32, name=None), TensorSpec(shape=(64, 10), dtype=tf.int32, name=None))>\n"
     ]
    }
   ],
   "source": [
    "print(train_dataset)"
   ]
  },
  {
   "cell_type": "code",
   "execution_count": 15,
   "metadata": {},
   "outputs": [],
   "source": [
    "def detokenize(token,tokenizer):\n",
    "    # token = token.numpy()\n",
    "    res = \"\"\n",
    "    for i in token:\n",
    "        if i!=0:\n",
    "            if(tokenizer.index_word[i]==\"<end>\"):\n",
    "                break\n",
    "            if(tokenizer.index_word[i]==\"<start>\"):\n",
    "                continue\n",
    "            res += tokenizer.index_word[i] + \" \"\n",
    "    return res\n",
    "\n"
   ]
  },
  {
   "cell_type": "code",
   "execution_count": 16,
   "metadata": {},
   "outputs": [],
   "source": [
    "# 2 layers => 1 embedding layer and 1 LSTM layer\n",
    "\n",
    "class Encoder(tf.keras.layers.Layer):\n",
    "    \n",
    "    def __init__(self, embed_dim, units, vocab_size):\n",
    "        super().__init__()\n",
    "        self.embedding = tf.keras.layers.Embedding(\n",
    "            vocab_size, embed_dim, mask_zero=True)\n",
    "        self.rnn = tf.keras.layers.LSTM(\n",
    "            units, return_sequences=True, return_state=True)\n",
    "    \n",
    "    def call(self, x):\n",
    "        # x => (batch_size, max_len)\n",
    "        x = self.embedding(x) # => (batch_size, s, embed_dim)\n",
    "        enc_outputs = self.rnn(x)\n",
    "        return enc_outputs[0], enc_outputs[1:]\n"
   ]
  },
  {
   "cell_type": "code",
   "execution_count": 17,
   "metadata": {},
   "outputs": [],
   "source": [
    "class AdditiveAttention(tf.keras.layers.Layer):\n",
    "\n",
    "    def __init__(self, units):\n",
    "        super().__init__()\n",
    "        self.W_q = tf.keras.layers.Dense(units, use_bias=False)\n",
    "        self.W_k = tf.keras.layers.Dense(units, use_bias=False)\n",
    "        self.W_v = tf.keras.layers.Dense(1, use_bias=False)\n",
    "    \n",
    "\n",
    "    def call(self, query, key, value, mask=None):\n",
    "        query, key = self.W_q(query), self.W_k(key)\n",
    "        # query => (batch_size, t, units)\n",
    "        # key => (batch_size, s, units)\n",
    "\n",
    "        score = self.W_v(\n",
    "            tf.math.tanh(\n",
    "                tf.expand_dims(query, 2) + tf.expand_dims(key, 1)\n",
    "            )\n",
    "        )\n",
    "        score = tf.squeeze(score, -1)\n",
    "        # score => (batch_size, t, s)\n",
    "        \n",
    "        if mask is not None:\n",
    "            score = tf.where(mask, score, -1e6)\n",
    "        \n",
    "        attention_weights = tf.nn.softmax(score, axis=-1)\n",
    "        # attention_weights => (batch_size, t, s)\n",
    "\n",
    "        context = tf.matmul(attention_weights, value)\n",
    "        # context => (batch_size, t, units)\n",
    "\n",
    "        return context, attention_weights\n"
   ]
  },
  {
   "cell_type": "code",
   "execution_count": 18,
   "metadata": {},
   "outputs": [],
   "source": [
    "class Decoder(tf.keras.layers.Layer):\n",
    "\n",
    "    def __init__(self, embed_dim, units, vocab_size):\n",
    "        super().__init__()\n",
    "\n",
    "        # Embedding layer to convert tokens to vectors\n",
    "        self.embedding = tf.keras.layers.Embedding(\n",
    "            vocab_size, embed_dim, mask_zero=True)\n",
    "        \n",
    "        # RNN layer\n",
    "        self.rnn = tf.keras.layers.LSTM(\n",
    "            units, return_sequences=True, return_state=True)\n",
    "        \n",
    "        # Attention layer\n",
    "        self.attention = AdditiveAttention(units)\n",
    "\n",
    "        # Final layer to output logits, we can use \n",
    "        # argmax to know which output token is predicted.\n",
    "        self.fc = tf.keras.layers.Dense(vocab_size)\n",
    "    \n",
    "\n",
    "    def call(self, x, enc_outputs, state, mask=None):\n",
    "        x = self.embedding(x)\n",
    "        # x => (batch_size, t, embed_dim)\n",
    "\n",
    "        dec_outputs = self.rnn(x, initial_state=state)\n",
    "        output = dec_outputs[0]\n",
    "        state = dec_outputs[1:]\n",
    "        # output   => (batch_size, t, units) \n",
    "        # state[i] => (batch_size, s, units)\n",
    "\n",
    "        context_vector, attention_weights = self.attention(\n",
    "            query=output,\n",
    "            key=enc_outputs,\n",
    "            value=enc_outputs,\n",
    "            mask=mask\n",
    "        )\n",
    "        # context_vector => (batch_size, t, units)\n",
    "        # attention_weights => (batch_size, t, s)\n",
    "\n",
    "        context_rnn_output = tf.concat(\n",
    "            [context_vector, output], axis=-1)\n",
    "        # context_rnn_output => (batch_size, t, 2*units)\n",
    "\n",
    "        pred = self.fc(context_rnn_output)\n",
    "        # pred => (batch_size, t, vocab_size)\n",
    "        \n",
    "        return pred, state, attention_weights\n"
   ]
  },
  {
   "cell_type": "code",
   "execution_count": 19,
   "metadata": {},
   "outputs": [],
   "source": [
    "# Creating instances of encoder and decoder\n",
    "encoder = Encoder(EMBEDDING_DIM, UNITS, input_vocab_size)\n",
    "decoder = Decoder(EMBEDDING_DIM, UNITS, target_vocab_size)\n"
   ]
  },
  {
   "cell_type": "code",
   "execution_count": 20,
   "metadata": {},
   "outputs": [],
   "source": [
    "def loss_fn(y_true, y_pred):\n",
    "    # y_true => (batch_size, max_len)\n",
    "    # y_pred => (batch_size, max_len, vocab_size)\n",
    "\n",
    "    mask = tf.cast(y_true != 0, tf.float32)\n",
    "\n",
    "    loss = tf.keras.losses.SparseCategoricalCrossentropy(\n",
    "        from_logits=True, reduction='none')(y_true, y_pred)\n",
    "\n",
    "    # masking the padding tokens\n",
    "    loss = tf.reduce_sum(loss * mask)\n",
    "    return loss"
   ]
  },
  {
   "cell_type": "code",
   "execution_count": 21,
   "metadata": {},
   "outputs": [
    {
     "name": "stderr",
     "output_type": "stream",
     "text": [
      "WARNING:absl:At this time, the v2.11+ optimizer `tf.keras.optimizers.Adam` runs slowly on M1/M2 Macs, please use the legacy Keras optimizer instead, located at `tf.keras.optimizers.legacy.Adam`.\n"
     ]
    }
   ],
   "source": [
    "trainer = tf.keras.optimizers.Adam(learning_rate=0.01)"
   ]
  },
  {
   "cell_type": "code",
   "execution_count": 22,
   "metadata": {},
   "outputs": [],
   "source": [
    "history = {\n",
    "    'loss': []\n",
    "}"
   ]
  },
  {
   "cell_type": "code",
   "execution_count": 247,
   "metadata": {},
   "outputs": [
    {
     "name": "stderr",
     "output_type": "stream",
     "text": [
      "100%|██████████| 2250/2250 [10:15<00:00,  3.66it/s]\n"
     ]
    },
    {
     "name": "stdout",
     "output_type": "stream",
     "text": [
      "Epoch: 0 | Loss: 3.0401213541030883\n"
     ]
    },
    {
     "name": "stderr",
     "output_type": "stream",
     "text": [
      "100%|██████████| 2250/2250 [09:56<00:00,  3.77it/s]\n"
     ]
    },
    {
     "name": "stdout",
     "output_type": "stream",
     "text": [
      "Epoch: 1 | Loss: 1.788059564696418\n"
     ]
    },
    {
     "name": "stderr",
     "output_type": "stream",
     "text": [
      "100%|██████████| 2250/2250 [09:57<00:00,  3.77it/s]\n"
     ]
    },
    {
     "name": "stdout",
     "output_type": "stream",
     "text": [
      "Epoch: 2 | Loss: 1.4489450137880113\n"
     ]
    },
    {
     "name": "stderr",
     "output_type": "stream",
     "text": [
      "100%|██████████| 2250/2250 [09:59<00:00,  3.75it/s]\n"
     ]
    },
    {
     "name": "stdout",
     "output_type": "stream",
     "text": [
      "Epoch: 3 | Loss: 1.2759853318267398\n"
     ]
    },
    {
     "name": "stderr",
     "output_type": "stream",
     "text": [
      "100%|██████████| 2250/2250 [09:52<00:00,  3.80it/s]\n"
     ]
    },
    {
     "name": "stdout",
     "output_type": "stream",
     "text": [
      "Epoch: 4 | Loss: 1.1762304315037198\n"
     ]
    },
    {
     "name": "stderr",
     "output_type": "stream",
     "text": [
      "100%|██████████| 2250/2250 [09:50<00:00,  3.81it/s]\n"
     ]
    },
    {
     "name": "stdout",
     "output_type": "stream",
     "text": [
      "Epoch: 5 | Loss: 1.1178003440697988\n"
     ]
    },
    {
     "name": "stderr",
     "output_type": "stream",
     "text": [
      "100%|██████████| 2250/2250 [09:49<00:00,  3.82it/s]\n"
     ]
    },
    {
     "name": "stdout",
     "output_type": "stream",
     "text": [
      "Epoch: 6 | Loss: 1.0739805550045438\n"
     ]
    },
    {
     "name": "stderr",
     "output_type": "stream",
     "text": [
      "100%|██████████| 2250/2250 [09:49<00:00,  3.82it/s]\n"
     ]
    },
    {
     "name": "stdout",
     "output_type": "stream",
     "text": [
      "Epoch: 7 | Loss: 1.045177271074719\n"
     ]
    },
    {
     "name": "stderr",
     "output_type": "stream",
     "text": [
      "100%|██████████| 2250/2250 [09:51<00:00,  3.80it/s]\n"
     ]
    },
    {
     "name": "stdout",
     "output_type": "stream",
     "text": [
      "Epoch: 8 | Loss: 1.0219092377291785\n"
     ]
    },
    {
     "name": "stderr",
     "output_type": "stream",
     "text": [
      "100%|██████████| 2250/2250 [09:52<00:00,  3.80it/s]\n"
     ]
    },
    {
     "name": "stdout",
     "output_type": "stream",
     "text": [
      "Epoch: 9 | Loss: 1.0025466074148814\n"
     ]
    },
    {
     "name": "stderr",
     "output_type": "stream",
     "text": [
      "100%|██████████| 2250/2250 [09:52<00:00,  3.80it/s]\n"
     ]
    },
    {
     "name": "stdout",
     "output_type": "stream",
     "text": [
      "Epoch: 10 | Loss: 0.9876225637065039\n"
     ]
    },
    {
     "name": "stderr",
     "output_type": "stream",
     "text": [
      "100%|██████████| 2250/2250 [09:56<00:00,  3.77it/s]\n"
     ]
    },
    {
     "name": "stdout",
     "output_type": "stream",
     "text": [
      "Epoch: 11 | Loss: 0.9767847358915541\n"
     ]
    },
    {
     "name": "stderr",
     "output_type": "stream",
     "text": [
      "100%|██████████| 2250/2250 [09:54<00:00,  3.78it/s]\n"
     ]
    },
    {
     "name": "stdout",
     "output_type": "stream",
     "text": [
      "Epoch: 12 | Loss: 0.9678186881012387\n"
     ]
    },
    {
     "name": "stderr",
     "output_type": "stream",
     "text": [
      "100%|██████████| 2250/2250 [09:50<00:00,  3.81it/s]\n"
     ]
    },
    {
     "name": "stdout",
     "output_type": "stream",
     "text": [
      "Epoch: 13 | Loss: 0.9580294948418935\n"
     ]
    },
    {
     "name": "stderr",
     "output_type": "stream",
     "text": [
      "100%|██████████| 2250/2250 [09:52<00:00,  3.80it/s]\n"
     ]
    },
    {
     "name": "stdout",
     "output_type": "stream",
     "text": [
      "Epoch: 14 | Loss: 0.9528588523334927\n"
     ]
    },
    {
     "name": "stderr",
     "output_type": "stream",
     "text": [
      "100%|██████████| 2250/2250 [09:54<00:00,  3.78it/s]\n"
     ]
    },
    {
     "name": "stdout",
     "output_type": "stream",
     "text": [
      "Epoch: 15 | Loss: 0.9462892627186246\n"
     ]
    },
    {
     "name": "stderr",
     "output_type": "stream",
     "text": [
      "100%|██████████| 2250/2250 [10:01<00:00,  3.74it/s]\n"
     ]
    },
    {
     "name": "stdout",
     "output_type": "stream",
     "text": [
      "Epoch: 16 | Loss: 0.9444270656903585\n"
     ]
    },
    {
     "name": "stderr",
     "output_type": "stream",
     "text": [
      "100%|██████████| 2250/2250 [09:57<00:00,  3.77it/s]\n"
     ]
    },
    {
     "name": "stdout",
     "output_type": "stream",
     "text": [
      "Epoch: 17 | Loss: 0.9391775285402933\n"
     ]
    },
    {
     "name": "stderr",
     "output_type": "stream",
     "text": [
      "100%|██████████| 2250/2250 [10:00<00:00,  3.75it/s]\n"
     ]
    },
    {
     "name": "stdout",
     "output_type": "stream",
     "text": [
      "Epoch: 18 | Loss: 0.934206871509552\n"
     ]
    },
    {
     "name": "stderr",
     "output_type": "stream",
     "text": [
      "100%|██████████| 2250/2250 [10:00<00:00,  3.75it/s]"
     ]
    },
    {
     "name": "stdout",
     "output_type": "stream",
     "text": [
      "Epoch: 19 | Loss: 0.9309811730914646\n"
     ]
    },
    {
     "name": "stderr",
     "output_type": "stream",
     "text": [
      "\n"
     ]
    }
   ],
   "source": [
    "for epoch in range(NUM_EPOCHS):\n",
    "    total_loss = 0.\n",
    "\n",
    "    with tqdm(total=len(train_dataset)) as pbar:\n",
    "        for batch, (x, y) in enumerate(train_dataset):\n",
    "            inp_mask = tf.expand_dims(x != 0, axis=1)\n",
    "            tgt_mask = tf.cast(y != 0, tf.float32)\n",
    "            \n",
    "            with tf.GradientTape() as tape:\n",
    "                loss = tf.constant(0.0)\n",
    "                enc_outputs, enc_states = encoder(x)\n",
    "                dec_states = enc_states\n",
    "\n",
    "                dec_input = tf.expand_dims(y[:, 0], axis=1)\n",
    "                for t in range(1, x.shape[1]):\n",
    "                    dec_outputs, dec_states, tmp_a = decoder(\n",
    "                        dec_input, enc_outputs, \n",
    "                        dec_states, inp_mask)\n",
    "\n",
    "                    loss += loss_fn(\n",
    "                        tf.expand_dims(y[:, t], axis=1), dec_outputs)\n",
    "                    dec_input = tf.expand_dims(y[:, t], axis=1)\n",
    "                    \n",
    "                loss = loss/tf.reduce_sum(tgt_mask)\n",
    "            \n",
    "            variables = (encoder.trainable_variables + \n",
    "            decoder.trainable_variables)\n",
    "            gradients = tape.gradient(loss, variables)\n",
    "            trainer.apply_gradients(zip(gradients, variables))\n",
    "            total_loss += loss.numpy()\n",
    "            pbar.update(1)\n",
    "        \n",
    "    epoch_loss = total_loss/len(train_dataset)\n",
    "    history['loss'].append(epoch_loss)\n",
    "    print(f'Epoch: {epoch} | Loss: {epoch_loss}')\n"
   ]
  },
  {
   "cell_type": "code",
   "execution_count": 248,
   "metadata": {},
   "outputs": [
    {
     "data": {
      "image/png": "[encoded data removed]",
      "text/plain": [
       "<Figure size 640x480 with 1 Axes>"
      ]
     },
     "metadata": {},
     "output_type": "display_data"
    }
   ],
   "source": [
    "epochs = list(range(len(history['loss'])))\n",
    "plt.plot(epochs, history['loss'])\n",
    "plt.title('Training Loss')\n",
    "plt.xlabel('Epoch')\n",
    "plt.ylabel('Loss')\n",
    "plt.show()"
   ]
  },
  {
   "cell_type": "code",
   "execution_count": 249,
   "metadata": {},
   "outputs": [
    {
     "data": {
      "text/plain": [
       "2"
      ]
     },
     "execution_count": 249,
     "metadata": {},
     "output_type": "execute_result"
    }
   ],
   "source": [
    "tar_tokenizer.word_index['<start>']"
   ]
  },
  {
   "cell_type": "code",
   "execution_count": 23,
   "metadata": {},
   "outputs": [],
   "source": [
    "def predict_seq2seq(encoder, decoder, src_tokens, tar_tokenizer, num_steps):\n",
    "    enc_X = tf.expand_dims(src_tokens, axis=0)\n",
    "    mask = tf.expand_dims(enc_X != 0, 1)\n",
    "\n",
    "    enc_outputs, enc_state = encoder(enc_X, training=False)\n",
    "    dec_state = enc_state\n",
    "    dec_X = tf.expand_dims(tf.constant([tar_tokenizer.word_index['<start>']]), axis=0)\n",
    "    output_seq = []\n",
    "    attention_weights = []\n",
    "    for _ in range(num_steps):\n",
    "        Y, dec_state, att_wgts = decoder(\n",
    "            dec_X, enc_outputs, dec_state, mask,training=False)\n",
    "        dec_X = tf.argmax(Y, axis=2)\n",
    "        pred = tf.squeeze(dec_X, axis=0)\n",
    "        if pred[0].numpy() == tar_tokenizer.word_index['<end>']:\n",
    "            break\n",
    "        output_seq.append(pred[0].numpy())\n",
    "        attention_weights.append(tf.squeeze(att_wgts, 0))\n",
    "    attention_weights = tf.squeeze(tf.stack(attention_weights, axis=0), 1)\n",
    "    return detokenize(output_seq, tar_tokenizer), attention_weights"
   ]
  },
  {
   "cell_type": "code",
   "execution_count": 25,
   "metadata": {},
   "outputs": [],
   "source": [
    "eng, hin = next(iter(train_dataset))\n",
    "# print(train_dataset)\n",
    "# print(eng)"
   ]
  },
  {
   "cell_type": "code",
   "execution_count": 26,
   "metadata": {},
   "outputs": [
    {
     "name": "stdout",
     "output_type": "stream",
     "text": [
      "tom participated in the boston marathon \n",
      "English Sentence:      tom participated in the boston marathon \n",
      "Predicted Translation: city city gehörst gehörst hats beginne harvardpullover harvardpullover dollar hotelreservation \n",
      "Actual Translation:    tom nahm am bostonmarathon teil \n"
     ]
    }
   ],
   "source": [
    "idx = -5\n",
    "actual_seq = detokenize(hin[idx].numpy(),tar_tokenizer)\n",
    "translation, att_wgts = predict_seq2seq(encoder, decoder, eng[idx], tar_tokenizer, 10)\n",
    "eng_sent = detokenize(eng[idx].numpy(), inp_tokenizer)\n",
    "print(eng_sent)\n",
    "print(f'English Sentence:      {eng_sent}')\n",
    "print(f'Predicted Translation: {translation}')\n",
    "print(f'Actual Translation:    {actual_seq}')"
   ]
  },
  {
   "cell_type": "code",
   "execution_count": 27,
   "metadata": {},
   "outputs": [],
   "source": [
    "def translate(lines,inp_tokenizer,tar_tokenizer,encoder,decoder,max_len=10):\n",
    "    \n",
    "    exclude = set(string.punctuation)\n",
    "    prep_lines = []\n",
    "\n",
    "    for i in lines:\n",
    "        prep_lines.append([preprocess(i, exclude, sp_tokens=False)])\n",
    "    \n",
    "    input_tensors = []\n",
    "\n",
    "    for i in prep_lines:\n",
    "        inp = i[0].split(' ')\n",
    "        tensor = []\n",
    "        for j in inp:\n",
    "            # check for oov\n",
    "            if j not in inp_tokenizer.word_index.keys():\n",
    "                tensor.append(inp_tokenizer.word_index['<unk>'])\n",
    "            else:\n",
    "                tensor.append(inp_tokenizer.word_index[j])\n",
    "        input_tensors.append(tensor)\n",
    "            \n",
    "    for input_tensor in input_tensors:\n",
    "        temp_max_len = max(max_len,len(input_tensor))\n",
    "        for i in range(temp_max_len-len(input_tensor)):\n",
    "            input_tensor.append(0)\n",
    "\n",
    "    for input_tensor in input_tensors:\n",
    "        input_tensor = tf.convert_to_tensor(input_tensor)\n",
    "\n",
    "    translations = []\n",
    "\n",
    "    for input_tensor in input_tensors:\n",
    "        translation, _ = predict_seq2seq(encoder, decoder, input_tensor, tar_tokenizer,10)\n",
    "        translations.append(translation)\n",
    "    \n",
    "    print(translations) \n",
    "    \n",
    "    return translations"
   ]
  },
  {
   "cell_type": "code",
   "execution_count": 28,
   "metadata": {},
   "outputs": [
    {
     "name": "stdout",
     "output_type": "stream",
     "text": [
      "['algaddafi weltfriedens nachholen mörder“ sonderbehandlung windhose windhose windhose braucht hinterhalt ', 'lastwagenfahrer blöd zeigten lastwagenfahrer blöd zeigten janeiro exakte änderung oberste ']\n",
      "['algaddafi weltfriedens nachholen mörder“ sonderbehandlung windhose windhose windhose braucht hinterhalt ', 'lastwagenfahrer blöd zeigten lastwagenfahrer blöd zeigten janeiro exakte änderung oberste ']\n"
     ]
    }
   ],
   "source": [
    "print(translate([\"anuj\",\"how are you?\"],inp_tokenizer,tar_tokenizer,encoder=encoder,decoder=decoder))"
   ]
  },
  {
   "cell_type": "code",
   "execution_count": 37,
   "metadata": {},
   "outputs": [],
   "source": [
    "def get_df(lines,encoder = encoder,decoder = decoder,inp_tokenizer = inp_tokenizer,tar_tokenizer = tar_tokenizer):\n",
    "    translation = {'Tokenised Original':[],'Reference':[],'Translation':[]}\n",
    "    lines = lines[:50]\n",
    "    text = []\n",
    "    ref = []\n",
    "    trans = []\n",
    "    for i in lines:\n",
    "        t = i.split('\\t')\n",
    "        text.append(t[0])\n",
    "        ref.append(t[1])   \n",
    "    trans = translate(text,inp_tokenizer,tar_tokenizer,encoder=encoder,decoder=decoder)\n",
    "    for i in range(len(trans)):\n",
    "        translation['Tokenised Original'].append(text[i])\n",
    "        translation['Reference'].append(ref[i])\n",
    "        translation['Translation'].append(trans[i])\n",
    "    df = pd.DataFrame(translation)\n",
    "    return df\n"
   ]
  },
  {
   "cell_type": "code",
   "execution_count": 38,
   "metadata": {},
   "outputs": [
    {
     "name": "stdout",
     "output_type": "stream",
     "text": [
      "['vierbuchstabigen verdächtigen standardeinstellungen 1952 standardeinstellungen 1952 mitglied pflanzte psychopath „gleich ', 'vierbuchstabigen verdächtigen standardeinstellungen 1952 standardeinstellungen 1952 mitglied pflanzte psychopath „gleich ', 'schiff whitman whitman itsutsugistraße rasierte „möchtest überhäufte behandle militärgeschichte export ', 'vierbuchstabigen überraschenderweise eingebrockt deutsche belasten staatsbürger blättern misstraust polizeizelle raubüberfalls ', 'vierbuchstabigen überraschenderweise eingebrockt deutsche belasten staatsbürger blättern misstraust polizeizelle raubüberfalls ', 'hast jungenname nachrichtenbeitrag nachrichtenbeitrag vertrauen vertrauen 1689 beerdigt ermitteln zusammengebracht ', 'überflogen vertreibst „mehr klimaanlange vergleichbares gebellt gebellt wasserglass lehre exmann ', 'überflogen vertreibst „mehr klimaanlange vergleichbares gebellt gebellt wasserglass lehre exmann ', 'nacharbeiten lächerlicher vertreibst anstelle organische untergrundbahnstation untergrundbahnstation robotern dolch robotern ', 'unübersehbar beseitigt beseitigt bewerben anlangte currygericht siebzig einstellen erschrick leuchteten ', 'flüchtling gerichte verfasste unverschämtes paris statistik terminplans saite nr bewohnern ', 'vergütung dessen kampfkunst geraume zeitloses verlorene lektion zuteilt flamencoaufführungen seien ', 'bulle verendeten bulle untergrundbahn doofen geschuldet gesetzen geschuldet zusammenfassen division ', 'eingestürzt familienleben sag’s photogen falschliege spektakulär spektakulär straßenkampf glänzt glänzt ', 'eingestürzt familienleben sag’s photogen falschliege spektakulär spektakulär straßenkampf glänzt glänzt ', 'necke anonymen alleinstehende runterzuspülen glänzt glänzt wirkst vorheizen zurückzuerhalten zurückzuerhalten ', 'haustier fangt vonseiten knirscht hintertür dir“ veranlassten kuscheltiersammlung vergraben veranlassten ', 'haustier fangt vonseiten knirscht hintertür dir“ veranlassten kuscheltiersammlung vergraben veranlassten ', 'lebensbedrohlich schwangeren hockte blechdach schwangeren hockte ausreichend blechdach verbrannten krach ', 'lernten kanadische geldbeutels begreift unleidlich dunklen fußballspiele vorspielte vorspielte hall“ ', 'grinst libelle klassischen riesenpandas aufleuchten wortgewandt verdrossenen verdrossenen verdrossenen verdrossenen ', 'grinst libelle klassischen riesenpandas aufleuchten wortgewandt verdrossenen verdrossenen verdrossenen verdrossenen ', 'zwingt schenkte kompetent kompetent verzehrter verzehrter blümchenkleid blümchenkleid blümchenkleid blümchenkleid ', 'zwingt schenkte kompetent kompetent verzehrter verzehrter blümchenkleid blümchenkleid blümchenkleid blümchenkleid ', 'zwingt schenkte kompetent kompetent verzehrter verzehrter blümchenkleid blümchenkleid blümchenkleid blümchenkleid ', 'jubelten allemal aufgibst sekretär brandes geschäftsreise jackentasche brandes buchdruck posierte ', 'jubelten allemal aufgibst sekretär brandes geschäftsreise jackentasche brandes buchdruck posierte ', 'berichte berichte billiges passfoto ausbreiten überstundenmachen kilometer schuster lebensversicherungsvertrag biobauernhof ', '6 fachmediziner missgönnen wehtut achilles prinzip hättet unternehmensleitung erleichtern sags ', '6 fachmediziner missgönnen wehtut achilles prinzip hättet unternehmensleitung erleichtern sags ', '6 fachmediziner missgönnen wehtut achilles prinzip hättet unternehmensleitung erleichtern sags ', 'durchdringende durchdringende dichten eulen eulen gelebt überraschten bedeuteten sag’s sag’s ', 'durchdringende durchdringende dichten eulen eulen gelebt überraschten bedeuteten sag’s sag’s ', 'durchdringende durchdringende dichten eulen eulen gelebt überraschten bedeuteten sag’s sag’s ', 'durchdringende durchdringende dichten eulen eulen gelebt überraschten bedeuteten sag’s sag’s ', 'durchdringende durchdringende dichten eulen eulen gelebt überraschten bedeuteten sag’s sag’s ', 'kunstwerke kunstwerke erziehung glücken schrift stockdunkle erziehung schrift erwähne generationen ', 'freizuhaben ziegen“ freizuhaben ziegen“ rechtens ökonomie rechtens freizuhaben schlagloch griff ', 'libelle nervenkitzel verendeten verendeten verdrossenen verdrossenen verdrossenen verdrossenen verdrossenen verdrossenen ', 'kunstwerke kunstwerke „darauf erziehung erziehung schreib bestrebung bestrebung stockdunkle ziele ', 'kunstwerke kunstwerke „darauf erziehung erziehung schreib bestrebung bestrebung stockdunkle ziele ', 'fangt rauszukommen frottieren herausforderung abgemacht lakritze hausfrauen technologieunternehmen rar verliert ', 'entfernte spektakulär nötigen langweiler gelddiebstahl abhaben computerkurs goldstandard dasselbe 5 ', 'beriet verängstigt umgehst addressierte knabe kokainsüchtig romeo doppelte atome doppelte ', 'beriet verängstigt umgehst addressierte knabe kokainsüchtig romeo doppelte atome doppelte ', 'weiher gehaltskürzung atmosphäre bewerben geburts schubs schubs amerikanischem ire bemitleidenswert ', 'weiher gehaltskürzung atmosphäre bewerben geburts schubs schubs amerikanischem ire bemitleidenswert ', 'weiher atmosphäre erwischt ertrinkenden tapferes ertrinkenden berief vorstandes vorstandes zusätzlich ', 'weiher atmosphäre erwischt ertrinkenden tapferes ertrinkenden berief vorstandes vorstandes zusätzlich ', 'einlenken gedauert dümmer überschwemmung wiederfand stattete machts vierbuchstabigen lumpur stattete ']\n"
     ]
    },
    {
     "data": {
      "text/html": [
       "<div>\n",
       "<style scoped>\n",
       "    .dataframe tbody tr th:only-of-type {\n",
       "        vertical-align: middle;\n",
       "    }\n",
       "\n",
       "    .dataframe tbody tr th {\n",
       "        vertical-align: top;\n",
       "    }\n",
       "\n",
       "    .dataframe thead th {\n",
       "        text-align: right;\n",
       "    }\n",
       "</style>\n",
       "<table border=\"1\" class=\"dataframe\">\n",
       "  <thead>\n",
       "    <tr style=\"text-align: right;\">\n",
       "      <th></th>\n",
       "      <th>Tokenised Original</th>\n",
       "      <th>Reference</th>\n",
       "      <th>Translation</th>\n",
       "    </tr>\n",
       "  </thead>\n",
       "  <tbody>\n",
       "    <tr>\n",
       "      <th>0</th>\n",
       "      <td>Hi.</td>\n",
       "      <td>Hallo!</td>\n",
       "      <td>vierbuchstabigen verdächtigen standardeinstell...</td>\n",
       "    </tr>\n",
       "    <tr>\n",
       "      <th>1</th>\n",
       "      <td>Hi.</td>\n",
       "      <td>Grüß Gott!</td>\n",
       "      <td>vierbuchstabigen verdächtigen standardeinstell...</td>\n",
       "    </tr>\n",
       "    <tr>\n",
       "      <th>2</th>\n",
       "      <td>Run!</td>\n",
       "      <td>Lauf!</td>\n",
       "      <td>schiff whitman whitman itsutsugistraße rasiert...</td>\n",
       "    </tr>\n",
       "    <tr>\n",
       "      <th>3</th>\n",
       "      <td>Wow!</td>\n",
       "      <td>Potzdonner!</td>\n",
       "      <td>vierbuchstabigen überraschenderweise eingebroc...</td>\n",
       "    </tr>\n",
       "    <tr>\n",
       "      <th>4</th>\n",
       "      <td>Wow!</td>\n",
       "      <td>Donnerwetter!</td>\n",
       "      <td>vierbuchstabigen überraschenderweise eingebroc...</td>\n",
       "    </tr>\n",
       "    <tr>\n",
       "      <th>5</th>\n",
       "      <td>Fire!</td>\n",
       "      <td>Feuer!</td>\n",
       "      <td>hast jungenname nachrichtenbeitrag nachrichten...</td>\n",
       "    </tr>\n",
       "    <tr>\n",
       "      <th>6</th>\n",
       "      <td>Help!</td>\n",
       "      <td>Hilfe!</td>\n",
       "      <td>überflogen vertreibst „mehr klimaanlange vergl...</td>\n",
       "    </tr>\n",
       "    <tr>\n",
       "      <th>7</th>\n",
       "      <td>Help!</td>\n",
       "      <td>Zu Hülf!</td>\n",
       "      <td>überflogen vertreibst „mehr klimaanlange vergl...</td>\n",
       "    </tr>\n",
       "    <tr>\n",
       "      <th>8</th>\n",
       "      <td>Stop!</td>\n",
       "      <td>Stopp!</td>\n",
       "      <td>nacharbeiten lächerlicher vertreibst anstelle ...</td>\n",
       "    </tr>\n",
       "    <tr>\n",
       "      <th>9</th>\n",
       "      <td>Wait!</td>\n",
       "      <td>Warte!</td>\n",
       "      <td>unübersehbar beseitigt beseitigt bewerben anla...</td>\n",
       "    </tr>\n",
       "    <tr>\n",
       "      <th>10</th>\n",
       "      <td>Go on.</td>\n",
       "      <td>Mach weiter.</td>\n",
       "      <td>flüchtling gerichte verfasste unverschämtes pa...</td>\n",
       "    </tr>\n",
       "    <tr>\n",
       "      <th>11</th>\n",
       "      <td>Hello!</td>\n",
       "      <td>Hallo!</td>\n",
       "      <td>vergütung dessen kampfkunst geraume zeitloses ...</td>\n",
       "    </tr>\n",
       "    <tr>\n",
       "      <th>12</th>\n",
       "      <td>I ran.</td>\n",
       "      <td>Ich rannte.</td>\n",
       "      <td>bulle verendeten bulle untergrundbahn doofen g...</td>\n",
       "    </tr>\n",
       "    <tr>\n",
       "      <th>13</th>\n",
       "      <td>I see.</td>\n",
       "      <td>Ich verstehe.</td>\n",
       "      <td>eingestürzt familienleben sag’s photogen falsc...</td>\n",
       "    </tr>\n",
       "    <tr>\n",
       "      <th>14</th>\n",
       "      <td>I see.</td>\n",
       "      <td>Aha.</td>\n",
       "      <td>eingestürzt familienleben sag’s photogen falsc...</td>\n",
       "    </tr>\n",
       "    <tr>\n",
       "      <th>15</th>\n",
       "      <td>I try.</td>\n",
       "      <td>Ich probiere es.</td>\n",
       "      <td>necke anonymen alleinstehende runterzuspülen g...</td>\n",
       "    </tr>\n",
       "    <tr>\n",
       "      <th>16</th>\n",
       "      <td>I won!</td>\n",
       "      <td>Ich hab gewonnen!</td>\n",
       "      <td>haustier fangt vonseiten knirscht hintertür di...</td>\n",
       "    </tr>\n",
       "    <tr>\n",
       "      <th>17</th>\n",
       "      <td>I won!</td>\n",
       "      <td>Ich habe gewonnen!</td>\n",
       "      <td>haustier fangt vonseiten knirscht hintertür di...</td>\n",
       "    </tr>\n",
       "    <tr>\n",
       "      <th>18</th>\n",
       "      <td>Smile.</td>\n",
       "      <td>Lächeln!</td>\n",
       "      <td>lebensbedrohlich schwangeren hockte blechdach ...</td>\n",
       "    </tr>\n",
       "    <tr>\n",
       "      <th>19</th>\n",
       "      <td>Cheers!</td>\n",
       "      <td>Zum Wohl!</td>\n",
       "      <td>lernten kanadische geldbeutels begreift unleid...</td>\n",
       "    </tr>\n",
       "    <tr>\n",
       "      <th>20</th>\n",
       "      <td>Freeze!</td>\n",
       "      <td>Keine Bewegung!</td>\n",
       "      <td>grinst libelle klassischen riesenpandas aufleu...</td>\n",
       "    </tr>\n",
       "    <tr>\n",
       "      <th>21</th>\n",
       "      <td>Freeze!</td>\n",
       "      <td>Stehenbleiben!</td>\n",
       "      <td>grinst libelle klassischen riesenpandas aufleu...</td>\n",
       "    </tr>\n",
       "    <tr>\n",
       "      <th>22</th>\n",
       "      <td>Got it?</td>\n",
       "      <td>Kapiert?</td>\n",
       "      <td>zwingt schenkte kompetent kompetent verzehrter...</td>\n",
       "    </tr>\n",
       "    <tr>\n",
       "      <th>23</th>\n",
       "      <td>Got it?</td>\n",
       "      <td>Verstanden?</td>\n",
       "      <td>zwingt schenkte kompetent kompetent verzehrter...</td>\n",
       "    </tr>\n",
       "    <tr>\n",
       "      <th>24</th>\n",
       "      <td>Got it?</td>\n",
       "      <td>Einverstanden?</td>\n",
       "      <td>zwingt schenkte kompetent kompetent verzehrter...</td>\n",
       "    </tr>\n",
       "    <tr>\n",
       "      <th>25</th>\n",
       "      <td>He ran.</td>\n",
       "      <td>Er rannte.</td>\n",
       "      <td>jubelten allemal aufgibst sekretär brandes ges...</td>\n",
       "    </tr>\n",
       "    <tr>\n",
       "      <th>26</th>\n",
       "      <td>He ran.</td>\n",
       "      <td>Er lief.</td>\n",
       "      <td>jubelten allemal aufgibst sekretär brandes ges...</td>\n",
       "    </tr>\n",
       "    <tr>\n",
       "      <th>27</th>\n",
       "      <td>Hop in.</td>\n",
       "      <td>Mach mit!</td>\n",
       "      <td>berichte berichte billiges passfoto ausbreiten...</td>\n",
       "    </tr>\n",
       "    <tr>\n",
       "      <th>28</th>\n",
       "      <td>Hug me.</td>\n",
       "      <td>Drück mich!</td>\n",
       "      <td>6 fachmediziner missgönnen wehtut achilles pri...</td>\n",
       "    </tr>\n",
       "    <tr>\n",
       "      <th>29</th>\n",
       "      <td>Hug me.</td>\n",
       "      <td>Nimm mich in den Arm!</td>\n",
       "      <td>6 fachmediziner missgönnen wehtut achilles pri...</td>\n",
       "    </tr>\n",
       "    <tr>\n",
       "      <th>30</th>\n",
       "      <td>Hug me.</td>\n",
       "      <td>Umarme mich!</td>\n",
       "      <td>6 fachmediziner missgönnen wehtut achilles pri...</td>\n",
       "    </tr>\n",
       "    <tr>\n",
       "      <th>31</th>\n",
       "      <td>I fell.</td>\n",
       "      <td>Ich fiel.</td>\n",
       "      <td>durchdringende durchdringende dichten eulen eu...</td>\n",
       "    </tr>\n",
       "    <tr>\n",
       "      <th>32</th>\n",
       "      <td>I fell.</td>\n",
       "      <td>Ich fiel hin.</td>\n",
       "      <td>durchdringende durchdringende dichten eulen eu...</td>\n",
       "    </tr>\n",
       "    <tr>\n",
       "      <th>33</th>\n",
       "      <td>I fell.</td>\n",
       "      <td>Ich stürzte.</td>\n",
       "      <td>durchdringende durchdringende dichten eulen eu...</td>\n",
       "    </tr>\n",
       "    <tr>\n",
       "      <th>34</th>\n",
       "      <td>I fell.</td>\n",
       "      <td>Ich bin hingefallen.</td>\n",
       "      <td>durchdringende durchdringende dichten eulen eu...</td>\n",
       "    </tr>\n",
       "    <tr>\n",
       "      <th>35</th>\n",
       "      <td>I fell.</td>\n",
       "      <td>Ich bin gestürzt.</td>\n",
       "      <td>durchdringende durchdringende dichten eulen eu...</td>\n",
       "    </tr>\n",
       "    <tr>\n",
       "      <th>36</th>\n",
       "      <td>I know.</td>\n",
       "      <td>Ich weiß.</td>\n",
       "      <td>kunstwerke kunstwerke erziehung glücken schrif...</td>\n",
       "    </tr>\n",
       "    <tr>\n",
       "      <th>37</th>\n",
       "      <td>I lied.</td>\n",
       "      <td>Ich habe gelogen.</td>\n",
       "      <td>freizuhaben ziegen“ freizuhaben ziegen“ rechte...</td>\n",
       "    </tr>\n",
       "    <tr>\n",
       "      <th>38</th>\n",
       "      <td>I lost.</td>\n",
       "      <td>Ich habe verloren.</td>\n",
       "      <td>libelle nervenkitzel verendeten verendeten ver...</td>\n",
       "    </tr>\n",
       "    <tr>\n",
       "      <th>39</th>\n",
       "      <td>I paid.</td>\n",
       "      <td>Ich habe bezahlt.</td>\n",
       "      <td>kunstwerke kunstwerke „darauf erziehung erzieh...</td>\n",
       "    </tr>\n",
       "    <tr>\n",
       "      <th>40</th>\n",
       "      <td>I paid.</td>\n",
       "      <td>Ich zahlte.</td>\n",
       "      <td>kunstwerke kunstwerke „darauf erziehung erzieh...</td>\n",
       "    </tr>\n",
       "    <tr>\n",
       "      <th>41</th>\n",
       "      <td>I sang.</td>\n",
       "      <td>Ich sang.</td>\n",
       "      <td>fangt rauszukommen frottieren herausforderung ...</td>\n",
       "    </tr>\n",
       "    <tr>\n",
       "      <th>42</th>\n",
       "      <td>I swim.</td>\n",
       "      <td>Ich schwimme.</td>\n",
       "      <td>entfernte spektakulär nötigen langweiler geldd...</td>\n",
       "    </tr>\n",
       "    <tr>\n",
       "      <th>43</th>\n",
       "      <td>I'm 19.</td>\n",
       "      <td>Ich bin 19 Jahre alt.</td>\n",
       "      <td>beriet verängstigt umgehst addressierte knabe ...</td>\n",
       "    </tr>\n",
       "    <tr>\n",
       "      <th>44</th>\n",
       "      <td>I'm 19.</td>\n",
       "      <td>Ich bin 19.</td>\n",
       "      <td>beriet verängstigt umgehst addressierte knabe ...</td>\n",
       "    </tr>\n",
       "    <tr>\n",
       "      <th>45</th>\n",
       "      <td>I'm OK.</td>\n",
       "      <td>Mir geht's gut.</td>\n",
       "      <td>weiher gehaltskürzung atmosphäre bewerben gebu...</td>\n",
       "    </tr>\n",
       "    <tr>\n",
       "      <th>46</th>\n",
       "      <td>I'm OK.</td>\n",
       "      <td>Es geht mir gut.</td>\n",
       "      <td>weiher gehaltskürzung atmosphäre bewerben gebu...</td>\n",
       "    </tr>\n",
       "    <tr>\n",
       "      <th>47</th>\n",
       "      <td>I'm up.</td>\n",
       "      <td>Ich bin wach.</td>\n",
       "      <td>weiher atmosphäre erwischt ertrinkenden tapfer...</td>\n",
       "    </tr>\n",
       "    <tr>\n",
       "      <th>48</th>\n",
       "      <td>I'm up.</td>\n",
       "      <td>Ich bin auf.</td>\n",
       "      <td>weiher atmosphäre erwischt ertrinkenden tapfer...</td>\n",
       "    </tr>\n",
       "    <tr>\n",
       "      <th>49</th>\n",
       "      <td>No way!</td>\n",
       "      <td>Unmöglich!</td>\n",
       "      <td>einlenken gedauert dümmer überschwemmung wiede...</td>\n",
       "    </tr>\n",
       "  </tbody>\n",
       "</table>\n",
       "</div>"
      ],
      "text/plain": [
       "   Tokenised Original              Reference  \\\n",
       "0                 Hi.                 Hallo!   \n",
       "1                 Hi.             Grüß Gott!   \n",
       "2                Run!                  Lauf!   \n",
       "3                Wow!            Potzdonner!   \n",
       "4                Wow!          Donnerwetter!   \n",
       "5               Fire!                 Feuer!   \n",
       "6               Help!                 Hilfe!   \n",
       "7               Help!               Zu Hülf!   \n",
       "8               Stop!                 Stopp!   \n",
       "9               Wait!                 Warte!   \n",
       "10             Go on.           Mach weiter.   \n",
       "11             Hello!                 Hallo!   \n",
       "12             I ran.            Ich rannte.   \n",
       "13             I see.          Ich verstehe.   \n",
       "14             I see.                   Aha.   \n",
       "15             I try.       Ich probiere es.   \n",
       "16             I won!      Ich hab gewonnen!   \n",
       "17             I won!     Ich habe gewonnen!   \n",
       "18             Smile.               Lächeln!   \n",
       "19            Cheers!              Zum Wohl!   \n",
       "20            Freeze!        Keine Bewegung!   \n",
       "21            Freeze!         Stehenbleiben!   \n",
       "22            Got it?               Kapiert?   \n",
       "23            Got it?            Verstanden?   \n",
       "24            Got it?         Einverstanden?   \n",
       "25            He ran.             Er rannte.   \n",
       "26            He ran.               Er lief.   \n",
       "27            Hop in.              Mach mit!   \n",
       "28            Hug me.            Drück mich!   \n",
       "29            Hug me.  Nimm mich in den Arm!   \n",
       "30            Hug me.           Umarme mich!   \n",
       "31            I fell.              Ich fiel.   \n",
       "32            I fell.          Ich fiel hin.   \n",
       "33            I fell.           Ich stürzte.   \n",
       "34            I fell.   Ich bin hingefallen.   \n",
       "35            I fell.      Ich bin gestürzt.   \n",
       "36            I know.              Ich weiß.   \n",
       "37            I lied.      Ich habe gelogen.   \n",
       "38            I lost.     Ich habe verloren.   \n",
       "39            I paid.      Ich habe bezahlt.   \n",
       "40            I paid.            Ich zahlte.   \n",
       "41            I sang.              Ich sang.   \n",
       "42            I swim.          Ich schwimme.   \n",
       "43            I'm 19.  Ich bin 19 Jahre alt.   \n",
       "44            I'm 19.            Ich bin 19.   \n",
       "45            I'm OK.        Mir geht's gut.   \n",
       "46            I'm OK.       Es geht mir gut.   \n",
       "47            I'm up.          Ich bin wach.   \n",
       "48            I'm up.           Ich bin auf.   \n",
       "49            No way!             Unmöglich!   \n",
       "\n",
       "                                          Translation  \n",
       "0   vierbuchstabigen verdächtigen standardeinstell...  \n",
       "1   vierbuchstabigen verdächtigen standardeinstell...  \n",
       "2   schiff whitman whitman itsutsugistraße rasiert...  \n",
       "3   vierbuchstabigen überraschenderweise eingebroc...  \n",
       "4   vierbuchstabigen überraschenderweise eingebroc...  \n",
       "5   hast jungenname nachrichtenbeitrag nachrichten...  \n",
       "6   überflogen vertreibst „mehr klimaanlange vergl...  \n",
       "7   überflogen vertreibst „mehr klimaanlange vergl...  \n",
       "8   nacharbeiten lächerlicher vertreibst anstelle ...  \n",
       "9   unübersehbar beseitigt beseitigt bewerben anla...  \n",
       "10  flüchtling gerichte verfasste unverschämtes pa...  \n",
       "11  vergütung dessen kampfkunst geraume zeitloses ...  \n",
       "12  bulle verendeten bulle untergrundbahn doofen g...  \n",
       "13  eingestürzt familienleben sag’s photogen falsc...  \n",
       "14  eingestürzt familienleben sag’s photogen falsc...  \n",
       "15  necke anonymen alleinstehende runterzuspülen g...  \n",
       "16  haustier fangt vonseiten knirscht hintertür di...  \n",
       "17  haustier fangt vonseiten knirscht hintertür di...  \n",
       "18  lebensbedrohlich schwangeren hockte blechdach ...  \n",
       "19  lernten kanadische geldbeutels begreift unleid...  \n",
       "20  grinst libelle klassischen riesenpandas aufleu...  \n",
       "21  grinst libelle klassischen riesenpandas aufleu...  \n",
       "22  zwingt schenkte kompetent kompetent verzehrter...  \n",
       "23  zwingt schenkte kompetent kompetent verzehrter...  \n",
       "24  zwingt schenkte kompetent kompetent verzehrter...  \n",
       "25  jubelten allemal aufgibst sekretär brandes ges...  \n",
       "26  jubelten allemal aufgibst sekretär brandes ges...  \n",
       "27  berichte berichte billiges passfoto ausbreiten...  \n",
       "28  6 fachmediziner missgönnen wehtut achilles pri...  \n",
       "29  6 fachmediziner missgönnen wehtut achilles pri...  \n",
       "30  6 fachmediziner missgönnen wehtut achilles pri...  \n",
       "31  durchdringende durchdringende dichten eulen eu...  \n",
       "32  durchdringende durchdringende dichten eulen eu...  \n",
       "33  durchdringende durchdringende dichten eulen eu...  \n",
       "34  durchdringende durchdringende dichten eulen eu...  \n",
       "35  durchdringende durchdringende dichten eulen eu...  \n",
       "36  kunstwerke kunstwerke erziehung glücken schrif...  \n",
       "37  freizuhaben ziegen“ freizuhaben ziegen“ rechte...  \n",
       "38  libelle nervenkitzel verendeten verendeten ver...  \n",
       "39  kunstwerke kunstwerke „darauf erziehung erzieh...  \n",
       "40  kunstwerke kunstwerke „darauf erziehung erzieh...  \n",
       "41  fangt rauszukommen frottieren herausforderung ...  \n",
       "42  entfernte spektakulär nötigen langweiler geldd...  \n",
       "43  beriet verängstigt umgehst addressierte knabe ...  \n",
       "44  beriet verängstigt umgehst addressierte knabe ...  \n",
       "45  weiher gehaltskürzung atmosphäre bewerben gebu...  \n",
       "46  weiher gehaltskürzung atmosphäre bewerben gebu...  \n",
       "47  weiher atmosphäre erwischt ertrinkenden tapfer...  \n",
       "48  weiher atmosphäre erwischt ertrinkenden tapfer...  \n",
       "49  einlenken gedauert dümmer überschwemmung wiede...  "
      ]
     },
     "execution_count": 38,
     "metadata": {},
     "output_type": "execute_result"
    }
   ],
   "source": [
    "df = get_df(lines)\n",
    "df"
   ]
  },
  {
   "cell_type": "code",
   "execution_count": 257,
   "metadata": {},
   "outputs": [],
   "source": [
    "import pickle\n",
    "# with open('encoder_attention_v1.pickle', 'wb') as f:\n",
    "#     pickle.dump(encoder, f)\n",
    "# with open('decoder_attention_v1.pickle', 'wb') as f:\n",
    "#     pickle.dump(decoder, f)"
   ]
  },
  {
   "cell_type": "code",
   "execution_count": 30,
   "metadata": {},
   "outputs": [
    {
     "name": "stdout",
     "output_type": "stream",
     "text": [
      "['algaddafi weltfriedens nachholen mörder“ sonderbehandlung windhose windhose windhose braucht hinterhalt ', 'lastwagenfahrer blöd zeigten lastwagenfahrer blöd zeigten janeiro exakte änderung oberste ']\n",
      "['algaddafi weltfriedens nachholen mörder“ sonderbehandlung windhose windhose windhose braucht hinterhalt ', 'lastwagenfahrer blöd zeigten lastwagenfahrer blöd zeigten janeiro exakte änderung oberste ']\n"
     ]
    }
   ],
   "source": [
    "print(translate([\"anuj\",\"how are you?\"],inp_tokenizer,tar_tokenizer,encoder=encoder,decoder=decoder))"
   ]
  },
  {
   "cell_type": "code",
   "execution_count": 31,
   "metadata": {},
   "outputs": [],
   "source": [
    "# with open('X_tokenizer.pickle', 'wb') as f:\n",
    "#     pickle.dump(inp_tokenizer, f)\n",
    "\n",
    "# with open('Y_tokenizer.pickle', 'wb') as f:\n",
    "#     pickle.dump(tar_tokenizer, f)"
   ]
  },
  {
   "cell_type": "code",
   "execution_count": 39,
   "metadata": {},
   "outputs": [],
   "source": [
    "import pickle\n",
    "encoder_loaded = pickle.load(open('encoder_attention_v1.pickle', 'rb'))\n",
    "decoder_loaded = pickle.load(open('decoder_attention_v1.pickle', 'rb'))\n",
    "\n",
    "X_tokenizer_loaded = pickle.load(open('X_tokenizer.pickle', 'rb'))\n",
    "Y_tokenizer_loaded = pickle.load(open('Y_tokenizer.pickle', 'rb'))\n",
    "\n",
    "# print(translate([\"anuj\",\"how are you?\"],X_tokenizer_loaded,Y_tokenizer_loaded,encoder=encoder_loaded,decoder=decoder_loaded))"
   ]
  },
  {
   "cell_type": "code",
   "execution_count": 40,
   "metadata": {},
   "outputs": [
    {
     "name": "stdout",
     "output_type": "stream",
     "text": [
      "['ignoriere roosevelt ', 'wie bist du ']\n",
      "['ignoriere roosevelt ', 'wie bist du ']\n"
     ]
    }
   ],
   "source": [
    "print(translate([\"anuj\",\"how are you?\"],X_tokenizer_loaded,Y_tokenizer_loaded,encoder=encoder_loaded,decoder=decoder_loaded))"
   ]
  },
  {
   "cell_type": "code",
   "execution_count": 41,
   "metadata": {},
   "outputs": [
    {
     "name": "stdout",
     "output_type": "stream",
     "text": [
      "['hallo ', 'hallo ', 'renn ', 'potzdonner ', 'potzdonner ', 'feuer feuer ', 'unterstützt hilfe ', 'unterstützt hilfe ', 'hör auf ', 'warte ', 'geh rein ', 'halli hallo hallo hallo hallo hallo hallo hallo hallo hallo ', 'ich rannte gerannt ', 'aha ', 'aha ', 'ich probiere es an ', 'ich habe gewonnen ', 'ich habe gewonnen ', 'lächeln schwingt zu lächeln ', 'an der armbanduhr ', 'knie einfach ', 'knie einfach ', 'schalte es ', 'schalte es ', 'schalte es ', 'er rannte ', 'er rannte ', 'mach mach zu ', 'umarme mich ', 'umarme mich ', 'umarme mich ', 'ich bin hingefallen ', 'ich bin hingefallen ', 'ich bin hingefallen ', 'ich bin hingefallen ', 'ich bin hingefallen ', 'ich weiß ', 'ich habe gelogen ', 'ich habe verloren ', 'ich bezahlte ', 'ich bezahlte ', 'ich habe gesungen ', 'ich schwimme zurück ', 'ich bin 19 jahre alt ', 'ich bin 19 jahre alt ', 'ich bin ok ', 'ich bin ok ', 'ich bin begeistert ', 'ich bin begeistert ', 'ausgeschlossen ']\n"
     ]
    },
    {
     "data": {
      "text/html": [
       "<div>\n",
       "<style scoped>\n",
       "    .dataframe tbody tr th:only-of-type {\n",
       "        vertical-align: middle;\n",
       "    }\n",
       "\n",
       "    .dataframe tbody tr th {\n",
       "        vertical-align: top;\n",
       "    }\n",
       "\n",
       "    .dataframe thead th {\n",
       "        text-align: right;\n",
       "    }\n",
       "</style>\n",
       "<table border=\"1\" class=\"dataframe\">\n",
       "  <thead>\n",
       "    <tr style=\"text-align: right;\">\n",
       "      <th></th>\n",
       "      <th>Tokenised Original</th>\n",
       "      <th>Reference</th>\n",
       "      <th>Translation</th>\n",
       "    </tr>\n",
       "  </thead>\n",
       "  <tbody>\n",
       "    <tr>\n",
       "      <th>0</th>\n",
       "      <td>Hi.</td>\n",
       "      <td>Hallo!</td>\n",
       "      <td>hallo</td>\n",
       "    </tr>\n",
       "    <tr>\n",
       "      <th>1</th>\n",
       "      <td>Hi.</td>\n",
       "      <td>Grüß Gott!</td>\n",
       "      <td>hallo</td>\n",
       "    </tr>\n",
       "    <tr>\n",
       "      <th>2</th>\n",
       "      <td>Run!</td>\n",
       "      <td>Lauf!</td>\n",
       "      <td>renn</td>\n",
       "    </tr>\n",
       "    <tr>\n",
       "      <th>3</th>\n",
       "      <td>Wow!</td>\n",
       "      <td>Potzdonner!</td>\n",
       "      <td>potzdonner</td>\n",
       "    </tr>\n",
       "    <tr>\n",
       "      <th>4</th>\n",
       "      <td>Wow!</td>\n",
       "      <td>Donnerwetter!</td>\n",
       "      <td>potzdonner</td>\n",
       "    </tr>\n",
       "    <tr>\n",
       "      <th>5</th>\n",
       "      <td>Fire!</td>\n",
       "      <td>Feuer!</td>\n",
       "      <td>feuer feuer</td>\n",
       "    </tr>\n",
       "    <tr>\n",
       "      <th>6</th>\n",
       "      <td>Help!</td>\n",
       "      <td>Hilfe!</td>\n",
       "      <td>unterstützt hilfe</td>\n",
       "    </tr>\n",
       "    <tr>\n",
       "      <th>7</th>\n",
       "      <td>Help!</td>\n",
       "      <td>Zu Hülf!</td>\n",
       "      <td>unterstützt hilfe</td>\n",
       "    </tr>\n",
       "    <tr>\n",
       "      <th>8</th>\n",
       "      <td>Stop!</td>\n",
       "      <td>Stopp!</td>\n",
       "      <td>hör auf</td>\n",
       "    </tr>\n",
       "    <tr>\n",
       "      <th>9</th>\n",
       "      <td>Wait!</td>\n",
       "      <td>Warte!</td>\n",
       "      <td>warte</td>\n",
       "    </tr>\n",
       "    <tr>\n",
       "      <th>10</th>\n",
       "      <td>Go on.</td>\n",
       "      <td>Mach weiter.</td>\n",
       "      <td>geh rein</td>\n",
       "    </tr>\n",
       "    <tr>\n",
       "      <th>11</th>\n",
       "      <td>Hello!</td>\n",
       "      <td>Hallo!</td>\n",
       "      <td>halli hallo hallo hallo hallo hallo hallo hall...</td>\n",
       "    </tr>\n",
       "    <tr>\n",
       "      <th>12</th>\n",
       "      <td>I ran.</td>\n",
       "      <td>Ich rannte.</td>\n",
       "      <td>ich rannte gerannt</td>\n",
       "    </tr>\n",
       "    <tr>\n",
       "      <th>13</th>\n",
       "      <td>I see.</td>\n",
       "      <td>Ich verstehe.</td>\n",
       "      <td>aha</td>\n",
       "    </tr>\n",
       "    <tr>\n",
       "      <th>14</th>\n",
       "      <td>I see.</td>\n",
       "      <td>Aha.</td>\n",
       "      <td>aha</td>\n",
       "    </tr>\n",
       "    <tr>\n",
       "      <th>15</th>\n",
       "      <td>I try.</td>\n",
       "      <td>Ich probiere es.</td>\n",
       "      <td>ich probiere es an</td>\n",
       "    </tr>\n",
       "    <tr>\n",
       "      <th>16</th>\n",
       "      <td>I won!</td>\n",
       "      <td>Ich hab gewonnen!</td>\n",
       "      <td>ich habe gewonnen</td>\n",
       "    </tr>\n",
       "    <tr>\n",
       "      <th>17</th>\n",
       "      <td>I won!</td>\n",
       "      <td>Ich habe gewonnen!</td>\n",
       "      <td>ich habe gewonnen</td>\n",
       "    </tr>\n",
       "    <tr>\n",
       "      <th>18</th>\n",
       "      <td>Smile.</td>\n",
       "      <td>Lächeln!</td>\n",
       "      <td>lächeln schwingt zu lächeln</td>\n",
       "    </tr>\n",
       "    <tr>\n",
       "      <th>19</th>\n",
       "      <td>Cheers!</td>\n",
       "      <td>Zum Wohl!</td>\n",
       "      <td>an der armbanduhr</td>\n",
       "    </tr>\n",
       "    <tr>\n",
       "      <th>20</th>\n",
       "      <td>Freeze!</td>\n",
       "      <td>Keine Bewegung!</td>\n",
       "      <td>knie einfach</td>\n",
       "    </tr>\n",
       "    <tr>\n",
       "      <th>21</th>\n",
       "      <td>Freeze!</td>\n",
       "      <td>Stehenbleiben!</td>\n",
       "      <td>knie einfach</td>\n",
       "    </tr>\n",
       "    <tr>\n",
       "      <th>22</th>\n",
       "      <td>Got it?</td>\n",
       "      <td>Kapiert?</td>\n",
       "      <td>schalte es</td>\n",
       "    </tr>\n",
       "    <tr>\n",
       "      <th>23</th>\n",
       "      <td>Got it?</td>\n",
       "      <td>Verstanden?</td>\n",
       "      <td>schalte es</td>\n",
       "    </tr>\n",
       "    <tr>\n",
       "      <th>24</th>\n",
       "      <td>Got it?</td>\n",
       "      <td>Einverstanden?</td>\n",
       "      <td>schalte es</td>\n",
       "    </tr>\n",
       "    <tr>\n",
       "      <th>25</th>\n",
       "      <td>He ran.</td>\n",
       "      <td>Er rannte.</td>\n",
       "      <td>er rannte</td>\n",
       "    </tr>\n",
       "    <tr>\n",
       "      <th>26</th>\n",
       "      <td>He ran.</td>\n",
       "      <td>Er lief.</td>\n",
       "      <td>er rannte</td>\n",
       "    </tr>\n",
       "    <tr>\n",
       "      <th>27</th>\n",
       "      <td>Hop in.</td>\n",
       "      <td>Mach mit!</td>\n",
       "      <td>mach mach zu</td>\n",
       "    </tr>\n",
       "    <tr>\n",
       "      <th>28</th>\n",
       "      <td>Hug me.</td>\n",
       "      <td>Drück mich!</td>\n",
       "      <td>umarme mich</td>\n",
       "    </tr>\n",
       "    <tr>\n",
       "      <th>29</th>\n",
       "      <td>Hug me.</td>\n",
       "      <td>Nimm mich in den Arm!</td>\n",
       "      <td>umarme mich</td>\n",
       "    </tr>\n",
       "    <tr>\n",
       "      <th>30</th>\n",
       "      <td>Hug me.</td>\n",
       "      <td>Umarme mich!</td>\n",
       "      <td>umarme mich</td>\n",
       "    </tr>\n",
       "    <tr>\n",
       "      <th>31</th>\n",
       "      <td>I fell.</td>\n",
       "      <td>Ich fiel.</td>\n",
       "      <td>ich bin hingefallen</td>\n",
       "    </tr>\n",
       "    <tr>\n",
       "      <th>32</th>\n",
       "      <td>I fell.</td>\n",
       "      <td>Ich fiel hin.</td>\n",
       "      <td>ich bin hingefallen</td>\n",
       "    </tr>\n",
       "    <tr>\n",
       "      <th>33</th>\n",
       "      <td>I fell.</td>\n",
       "      <td>Ich stürzte.</td>\n",
       "      <td>ich bin hingefallen</td>\n",
       "    </tr>\n",
       "    <tr>\n",
       "      <th>34</th>\n",
       "      <td>I fell.</td>\n",
       "      <td>Ich bin hingefallen.</td>\n",
       "      <td>ich bin hingefallen</td>\n",
       "    </tr>\n",
       "    <tr>\n",
       "      <th>35</th>\n",
       "      <td>I fell.</td>\n",
       "      <td>Ich bin gestürzt.</td>\n",
       "      <td>ich bin hingefallen</td>\n",
       "    </tr>\n",
       "    <tr>\n",
       "      <th>36</th>\n",
       "      <td>I know.</td>\n",
       "      <td>Ich weiß.</td>\n",
       "      <td>ich weiß</td>\n",
       "    </tr>\n",
       "    <tr>\n",
       "      <th>37</th>\n",
       "      <td>I lied.</td>\n",
       "      <td>Ich habe gelogen.</td>\n",
       "      <td>ich habe gelogen</td>\n",
       "    </tr>\n",
       "    <tr>\n",
       "      <th>38</th>\n",
       "      <td>I lost.</td>\n",
       "      <td>Ich habe verloren.</td>\n",
       "      <td>ich habe verloren</td>\n",
       "    </tr>\n",
       "    <tr>\n",
       "      <th>39</th>\n",
       "      <td>I paid.</td>\n",
       "      <td>Ich habe bezahlt.</td>\n",
       "      <td>ich bezahlte</td>\n",
       "    </tr>\n",
       "    <tr>\n",
       "      <th>40</th>\n",
       "      <td>I paid.</td>\n",
       "      <td>Ich zahlte.</td>\n",
       "      <td>ich bezahlte</td>\n",
       "    </tr>\n",
       "    <tr>\n",
       "      <th>41</th>\n",
       "      <td>I sang.</td>\n",
       "      <td>Ich sang.</td>\n",
       "      <td>ich habe gesungen</td>\n",
       "    </tr>\n",
       "    <tr>\n",
       "      <th>42</th>\n",
       "      <td>I swim.</td>\n",
       "      <td>Ich schwimme.</td>\n",
       "      <td>ich schwimme zurück</td>\n",
       "    </tr>\n",
       "    <tr>\n",
       "      <th>43</th>\n",
       "      <td>I'm 19.</td>\n",
       "      <td>Ich bin 19 Jahre alt.</td>\n",
       "      <td>ich bin 19 jahre alt</td>\n",
       "    </tr>\n",
       "    <tr>\n",
       "      <th>44</th>\n",
       "      <td>I'm 19.</td>\n",
       "      <td>Ich bin 19.</td>\n",
       "      <td>ich bin 19 jahre alt</td>\n",
       "    </tr>\n",
       "    <tr>\n",
       "      <th>45</th>\n",
       "      <td>I'm OK.</td>\n",
       "      <td>Mir geht's gut.</td>\n",
       "      <td>ich bin ok</td>\n",
       "    </tr>\n",
       "    <tr>\n",
       "      <th>46</th>\n",
       "      <td>I'm OK.</td>\n",
       "      <td>Es geht mir gut.</td>\n",
       "      <td>ich bin ok</td>\n",
       "    </tr>\n",
       "    <tr>\n",
       "      <th>47</th>\n",
       "      <td>I'm up.</td>\n",
       "      <td>Ich bin wach.</td>\n",
       "      <td>ich bin begeistert</td>\n",
       "    </tr>\n",
       "    <tr>\n",
       "      <th>48</th>\n",
       "      <td>I'm up.</td>\n",
       "      <td>Ich bin auf.</td>\n",
       "      <td>ich bin begeistert</td>\n",
       "    </tr>\n",
       "    <tr>\n",
       "      <th>49</th>\n",
       "      <td>No way!</td>\n",
       "      <td>Unmöglich!</td>\n",
       "      <td>ausgeschlossen</td>\n",
       "    </tr>\n",
       "  </tbody>\n",
       "</table>\n",
       "</div>"
      ],
      "text/plain": [
       "   Tokenised Original              Reference  \\\n",
       "0                 Hi.                 Hallo!   \n",
       "1                 Hi.             Grüß Gott!   \n",
       "2                Run!                  Lauf!   \n",
       "3                Wow!            Potzdonner!   \n",
       "4                Wow!          Donnerwetter!   \n",
       "5               Fire!                 Feuer!   \n",
       "6               Help!                 Hilfe!   \n",
       "7               Help!               Zu Hülf!   \n",
       "8               Stop!                 Stopp!   \n",
       "9               Wait!                 Warte!   \n",
       "10             Go on.           Mach weiter.   \n",
       "11             Hello!                 Hallo!   \n",
       "12             I ran.            Ich rannte.   \n",
       "13             I see.          Ich verstehe.   \n",
       "14             I see.                   Aha.   \n",
       "15             I try.       Ich probiere es.   \n",
       "16             I won!      Ich hab gewonnen!   \n",
       "17             I won!     Ich habe gewonnen!   \n",
       "18             Smile.               Lächeln!   \n",
       "19            Cheers!              Zum Wohl!   \n",
       "20            Freeze!        Keine Bewegung!   \n",
       "21            Freeze!         Stehenbleiben!   \n",
       "22            Got it?               Kapiert?   \n",
       "23            Got it?            Verstanden?   \n",
       "24            Got it?         Einverstanden?   \n",
       "25            He ran.             Er rannte.   \n",
       "26            He ran.               Er lief.   \n",
       "27            Hop in.              Mach mit!   \n",
       "28            Hug me.            Drück mich!   \n",
       "29            Hug me.  Nimm mich in den Arm!   \n",
       "30            Hug me.           Umarme mich!   \n",
       "31            I fell.              Ich fiel.   \n",
       "32            I fell.          Ich fiel hin.   \n",
       "33            I fell.           Ich stürzte.   \n",
       "34            I fell.   Ich bin hingefallen.   \n",
       "35            I fell.      Ich bin gestürzt.   \n",
       "36            I know.              Ich weiß.   \n",
       "37            I lied.      Ich habe gelogen.   \n",
       "38            I lost.     Ich habe verloren.   \n",
       "39            I paid.      Ich habe bezahlt.   \n",
       "40            I paid.            Ich zahlte.   \n",
       "41            I sang.              Ich sang.   \n",
       "42            I swim.          Ich schwimme.   \n",
       "43            I'm 19.  Ich bin 19 Jahre alt.   \n",
       "44            I'm 19.            Ich bin 19.   \n",
       "45            I'm OK.        Mir geht's gut.   \n",
       "46            I'm OK.       Es geht mir gut.   \n",
       "47            I'm up.          Ich bin wach.   \n",
       "48            I'm up.           Ich bin auf.   \n",
       "49            No way!             Unmöglich!   \n",
       "\n",
       "                                          Translation  \n",
       "0                                              hallo   \n",
       "1                                              hallo   \n",
       "2                                               renn   \n",
       "3                                         potzdonner   \n",
       "4                                         potzdonner   \n",
       "5                                        feuer feuer   \n",
       "6                                  unterstützt hilfe   \n",
       "7                                  unterstützt hilfe   \n",
       "8                                            hör auf   \n",
       "9                                              warte   \n",
       "10                                          geh rein   \n",
       "11  halli hallo hallo hallo hallo hallo hallo hall...  \n",
       "12                                ich rannte gerannt   \n",
       "13                                               aha   \n",
       "14                                               aha   \n",
       "15                                ich probiere es an   \n",
       "16                                 ich habe gewonnen   \n",
       "17                                 ich habe gewonnen   \n",
       "18                       lächeln schwingt zu lächeln   \n",
       "19                                 an der armbanduhr   \n",
       "20                                      knie einfach   \n",
       "21                                      knie einfach   \n",
       "22                                        schalte es   \n",
       "23                                        schalte es   \n",
       "24                                        schalte es   \n",
       "25                                         er rannte   \n",
       "26                                         er rannte   \n",
       "27                                      mach mach zu   \n",
       "28                                       umarme mich   \n",
       "29                                       umarme mich   \n",
       "30                                       umarme mich   \n",
       "31                               ich bin hingefallen   \n",
       "32                               ich bin hingefallen   \n",
       "33                               ich bin hingefallen   \n",
       "34                               ich bin hingefallen   \n",
       "35                               ich bin hingefallen   \n",
       "36                                          ich weiß   \n",
       "37                                  ich habe gelogen   \n",
       "38                                 ich habe verloren   \n",
       "39                                      ich bezahlte   \n",
       "40                                      ich bezahlte   \n",
       "41                                 ich habe gesungen   \n",
       "42                               ich schwimme zurück   \n",
       "43                              ich bin 19 jahre alt   \n",
       "44                              ich bin 19 jahre alt   \n",
       "45                                        ich bin ok   \n",
       "46                                        ich bin ok   \n",
       "47                                ich bin begeistert   \n",
       "48                                ich bin begeistert   \n",
       "49                                    ausgeschlossen   "
      ]
     },
     "execution_count": 41,
     "metadata": {},
     "output_type": "execute_result"
    }
   ],
   "source": [
    "df = get_df(lines,encoder_loaded,decoder_loaded,X_tokenizer_loaded,Y_tokenizer_loaded)\n",
    "df"
   ]
  }
 ],
 "metadata": {
  "kernelspec": {
   "display_name": "Python 3",
   "language": "python",
   "name": "python3"
  },
  "language_info": {
   "codemirror_mode": {
    "name": "ipython",
    "version": 3
   },
   "file_extension": ".py",
   "mimetype": "text/x-python",
   "name": "python",
   "nbconvert_exporter": "python",
   "pygments_lexer": "ipython3",
   "version": "3.11.6"
  }
 },
 "nbformat": 4,
 "nbformat_minor": 2
}
