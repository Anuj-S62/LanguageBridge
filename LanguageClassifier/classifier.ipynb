{
 "cells": [
  {
   "cell_type": "code",
   "execution_count": null,
   "metadata": {},
   "outputs": [
    {
     "ename": "",
     "evalue": "",
     "output_type": "error",
     "traceback": [
      "\u001b[1;31mThe kernel failed to start as the Python Environment 'myenv' is no longer available. Consider selecting another kernel or refreshing the list of Python Environments."
     ]
    }
   ],
   "source": [
    "import pandas as pd\n",
    "import spacy\n",
    "from sklearn.model_selection import train_test_split\n",
    "import numpy as np\n",
    "from sklearn.pipeline import Pipeline\n",
    "from sklearn.feature_extraction.text import CountVectorizer, TfidfTransformer\n",
    "from sklearn.naive_bayes import MultinomialNB\n",
    "from sklearn.metrics import classification_report\n",
    "\n",
    "\n",
    "print(\"helo\")\n",
    "\n",
    "def get_data(path):\n",
    "    data = pd.read_csv(path)\n",
    "    return data\n",
    "\n",
    "data  = get_data(\"language.csv\")\n",
    "labels = {}\n",
    "\n",
    "for i in range(len(data)):\n",
    "    if(data[\"label\"][i] not in labels):\n",
    "        labels[data[\"label\"][i]] = data[\"Language\"][i]\n",
    "\n",
    "print(labels)\n",
    "\n",
    "# split datatrain and datatest\n",
    "\n",
    "train, test = train_test_split(data, test_size=0.2)\n",
    "\n",
    "# load model\n",
    "nlp = spacy.load(\"en_core_web_sm\")\n",
    "\n",
    "# preprocessing\n",
    "def preprocessing(text):\n",
    "    text = text.lower()\n",
    "    doc = nlp(text)\n",
    "    tokens = [token.text for token in doc]\n",
    "    return tokens\n",
    "\n",
    "# if not token.is_stop\n",
    "\n",
    "print(preprocessing(\"I am a student\"))\n",
    "\n",
    "# create pipeline\n",
    "# clf = Pipeline(\n",
    "#     [\n",
    "#         (\"vectorizer\", CountVectorizer(analyzer=preprocessing)),\n",
    "#         (\"tfidf\", TfidfTransformer()),\n",
    "#         (\"classifier\", MultinomialNB()),\n",
    "#     ]\n",
    "# )\n",
    "\n",
    "# train model\n",
    "# clf.fit(train[\"Text\"], train[\"label\"])\n",
    "\n",
    "\n",
    "\n",
    "# import saved model\n",
    "import pickle\n",
    "model = pickle.load(open(\"classifier_model\", \"rb\"))\n",
    "\n",
    "# test model\n",
    "predicted = model.predict(test[\"Text\"])\n",
    "\n",
    "# acuracy\n",
    "print(classification_report(test[\"label\"], predicted))\n",
    "\n",
    "print(model.predict([\"hola amigos\"]))"
   ]
  }
 ],
 "metadata": {
  "kernelspec": {
   "display_name": "myenv",
   "language": "python",
   "name": "python3"
  },
  "language_info": {
   "name": "python",
   "version": "3.11.7"
  }
 },
 "nbformat": 4,
 "nbformat_minor": 2
}
